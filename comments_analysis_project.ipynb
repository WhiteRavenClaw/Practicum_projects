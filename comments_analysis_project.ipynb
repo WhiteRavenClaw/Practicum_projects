{
 "cells": [
  {
   "cell_type": "code",
   "execution_count": 1,
   "metadata": {},
   "outputs": [
    {
     "name": "stdout",
     "output_type": "stream",
     "text": [
      "Collecting imbalanced-learn\n",
      "  Downloading imbalanced_learn-0.12.4-py3-none-any.whl (258 kB)\n",
      "\u001b[K     |████████████████████████████████| 258 kB 1.9 MB/s eta 0:00:01\n",
      "\u001b[?25hRequirement already satisfied: numpy>=1.17.3 in /opt/conda/lib/python3.9/site-packages (from imbalanced-learn) (1.21.1)\n",
      "Collecting joblib>=1.1.1\n",
      "  Downloading joblib-1.4.2-py3-none-any.whl (301 kB)\n",
      "\u001b[K     |████████████████████████████████| 301 kB 31.1 MB/s eta 0:00:01\n",
      "\u001b[?25hRequirement already satisfied: threadpoolctl>=2.0.0 in /opt/conda/lib/python3.9/site-packages (from imbalanced-learn) (3.1.0)\n",
      "Collecting scikit-learn>=1.0.2\n",
      "  Downloading scikit_learn-1.6.0-cp39-cp39-manylinux_2_17_x86_64.manylinux2014_x86_64.whl (13.5 MB)\n",
      "\u001b[K     |████████████████████████████████| 13.5 MB 62.1 MB/s eta 0:00:01\n",
      "\u001b[?25hRequirement already satisfied: scipy>=1.5.0 in /opt/conda/lib/python3.9/site-packages (from imbalanced-learn) (1.9.1)\n",
      "Installing collected packages: joblib, scikit-learn, imbalanced-learn\n",
      "  Attempting uninstall: joblib\n",
      "    Found existing installation: joblib 1.1.0\n",
      "    Uninstalling joblib-1.1.0:\n",
      "      Successfully uninstalled joblib-1.1.0\n",
      "  Attempting uninstall: scikit-learn\n",
      "    Found existing installation: scikit-learn 0.24.1\n",
      "    Uninstalling scikit-learn-0.24.1:\n",
      "      Successfully uninstalled scikit-learn-0.24.1\n",
      "Successfully installed imbalanced-learn-0.12.4 joblib-1.4.2 scikit-learn-1.6.0\n"
     ]
    }
   ],
   "source": [
    "!pip install imbalanced-learn"
   ]
  },
  {
   "cell_type": "code",
   "execution_count": 2,
   "metadata": {},
   "outputs": [],
   "source": [
    "import pandas as pd\n",
    "from sklearn.model_selection import train_test_split\n",
    "from sklearn.feature_extraction.text import TfidfVectorizer\n",
    "from sklearn.linear_model import LogisticRegression\n",
    "from catboost import CatBoostClassifier\n",
    "from sklearn.metrics import f1_score\n",
    "from nltk.stem import WordNetLemmatizer\n",
    "from sklearn.feature_extraction.text import CountVectorizer\n",
    "from imblearn.over_sampling import SMOTE\n",
    "from imblearn.under_sampling import RandomUnderSampler\n",
    "from sklearn.model_selection import GridSearchCV\n",
    "from sklearn.ensemble import VotingClassifier\n",
    "from sklearn.ensemble import RandomForestClassifier\n",
    "import nltk\n",
    "from nltk.tokenize import word_tokenize\n",
    "from nltk import pos_tag\n",
    "from nltk.corpus import stopwords, wordnet\n",
    "from imblearn.pipeline import Pipeline"
   ]
  },
  {
   "cell_type": "markdown",
   "metadata": {},
   "source": [
    "## Подготовка"
   ]
  },
  {
   "cell_type": "code",
   "execution_count": 6,
   "metadata": {},
   "outputs": [],
   "source": [
    "df = df.drop('Unnamed: 0', axis=1)"
   ]
  },
  {
   "cell_type": "code",
   "execution_count": 7,
   "metadata": {},
   "outputs": [
    {
     "name": "stdout",
     "output_type": "stream",
     "text": [
      "0    143106\n",
      "1     16186\n",
      "Name: toxic, dtype: int64\n"
     ]
    }
   ],
   "source": [
    "print(df['toxic'].value_counts())"
   ]
  },
  {
   "cell_type": "code",
   "execution_count": 8,
   "metadata": {},
   "outputs": [],
   "source": [
    "# Ограничение данных до 3500 комментариев\n",
    "df = df.sample(n=10000, random_state=42)"
   ]
  },
  {
   "cell_type": "code",
   "execution_count": 9,
   "metadata": {},
   "outputs": [
    {
     "name": "stderr",
     "output_type": "stream",
     "text": [
      "[nltk_data] Downloading package stopwords to /home/jovyan/nltk_data...\n",
      "[nltk_data]   Package stopwords is already up-to-date!\n",
      "[nltk_data] Downloading package wordnet to /home/jovyan/nltk_data...\n",
      "[nltk_data]   Package wordnet is already up-to-date!\n",
      "[nltk_data] Downloading package averaged_perceptron_tagger to\n",
      "[nltk_data]     /home/jovyan/nltk_data...\n",
      "[nltk_data]   Unzipping taggers/averaged_perceptron_tagger.zip.\n"
     ]
    }
   ],
   "source": [
    "nltk.download('stopwords')\n",
    "nltk.download('wordnet')\n",
    "nltk.download('averaged_perceptron_tagger')\n",
    "stopwords_eng = set(stopwords.words('english'))"
   ]
  },
  {
   "cell_type": "code",
   "execution_count": 10,
   "metadata": {},
   "outputs": [],
   "source": [
    "# Функция для определения POS-тега для лемматизации\n",
    "def get_wordnet_pos(word):\n",
    "    \"\"\"Возвращает тег POS для лемматизации\"\"\"\n",
    "    tag = pos_tag([word])[0][1][0].upper()\n",
    "    tag_dict = {\n",
    "        \"J\": wordnet.ADJ,\n",
    "        \"N\": wordnet.NOUN,\n",
    "        \"V\": wordnet.VERB,\n",
    "        \"R\": wordnet.ADV\n",
    "    }\n",
    "    return tag_dict.get(tag, wordnet.NOUN)\n",
    "\n",
    "# Инициализация лемматизатора\n",
    "lemmatizer = WordNetLemmatizer()\n"
   ]
  },
  {
   "cell_type": "code",
   "execution_count": 11,
   "metadata": {},
   "outputs": [],
   "source": [
    "# Лемматизация текста с POS-тегами\n",
    "def lemmatize_text(text):\n",
    "    words = word_tokenize(text)  # Разбиваем текст на слова\n",
    "    return ' '.join([lemmatizer.lemmatize(word, get_wordnet_pos(word)) for word in words])\n"
   ]
  },
  {
   "cell_type": "code",
   "execution_count": 12,
   "metadata": {},
   "outputs": [
    {
     "name": "stdout",
     "output_type": "stream",
     "text": [
      "31015     Sometime back , I just happen to log on to www...\n",
      "102832    `` The late edit be much well , do n't make th...\n",
      "67317     `` October 2007 ( UTC ) I would think you 'd b...\n",
      "81091     Thanks for the tip on the currency translation...\n",
      "90091     I would argue that if content on the Con in co...\n",
      "Name: lemmatized_text, dtype: object\n"
     ]
    }
   ],
   "source": [
    "# Применение лемматизации\n",
    "df['lemmatized_text'] = df['text'].apply(lemmatize_text)\n",
    "\n",
    "# Проверка результата\n",
    "print(df['lemmatized_text'].head())"
   ]
  },
  {
   "cell_type": "markdown",
   "metadata": {},
   "source": [
    "## Обучение"
   ]
  },
  {
   "cell_type": "code",
   "execution_count": 13,
   "metadata": {},
   "outputs": [],
   "source": [
    "# Разделение данных\n",
    "X_train_text, X_temp_text, y_train, y_temp = train_test_split(df['lemmatized_text'], df['toxic'], test_size=0.3, random_state=42)\n",
    "X_val_text, X_test_text, y_val, y_test = train_test_split(X_temp_text, y_temp, test_size=0.5, random_state=42)"
   ]
  },
  {
   "cell_type": "code",
   "execution_count": 14,
   "metadata": {},
   "outputs": [],
   "source": [
    "# TF-IDF\n",
    "tfidf = TfidfVectorizer(stop_words=list(stopwords_eng), max_features=10000, ngram_range=(1, 2))\n",
    "X_train = tfidf.fit_transform(X_train_text)\n",
    "X_val = tfidf.transform(X_val_text)\n",
    "X_test = tfidf.transform(X_test_text)"
   ]
  },
  {
   "cell_type": "code",
   "execution_count": null,
   "metadata": {},
   "outputs": [],
   "source": [
    "# Logistic Regression с кросс-валидацией\n",
    "param_grid_lr = {'C': [0.7, 1.0, 1.5, 2.0], 'penalty': ['l1']}\n",
    "grid_lr = GridSearchCV(LogisticRegression(max_iter=10000, class_weight='balanced', solver='liblinear'), param_grid_lr, scoring='f1', cv=5)\n",
    "grid_lr.fit(X_train, y_train)\n",
    "best_model_lr = grid_lr.best_estimator_\n"
   ]
  },
  {
   "cell_type": "code",
   "execution_count": null,
   "metadata": {},
   "outputs": [],
   "source": [
    "# Оценка на валидационной выборке для Logistic Regression\n",
    "y_val_pred_proba_lr = best_model_lr.predict_proba(X_val)[:, 1]\n",
    "y_val_pred_lr = (y_val_pred_proba_lr > 0.79).astype(int)\n",
    "f1_val_lr = f1_score(y_val, y_val_pred_lr)\n",
    "print(f'F1 для Logistic Regression на валидационной выборке: {f1_val_lr:.4f}')"
   ]
  },
  {
   "cell_type": "code",
   "execution_count": null,
   "metadata": {},
   "outputs": [],
   "source": [
    "best_threshold = 0\n",
    "best_f1 = 0\n",
    "y_pred_proba = best_model_lr.predict_proba(X_test)[:, 1]\n",
    "for threshold in [x * 0.01 for x in range(70, 81)]:\n",
    "    y_pred_lr = (y_pred_proba > threshold).astype(int)\n",
    "    f1 = f1_score(y_test, y_pred_lr)\n",
    "    if f1 > best_f1:\n",
    "        best_f1 = f1\n",
    "        best_threshold = threshold\n",
    "\n",
    "print(f'Лучший порог: {best_threshold}, F1: {best_f1:.4f}')\n"
   ]
  },
  {
   "cell_type": "code",
   "execution_count": null,
   "metadata": {},
   "outputs": [],
   "source": [
    "# RandomForest\n",
    "model_rf = RandomForestClassifier(n_estimators=100, random_state=42)\n",
    "model_rf.fit(X_train, y_train)\n",
    "y_val_pred_rf = model_rf.predict(X_val)\n",
    "f1_val_rf = f1_score(y_val, y_val_pred_rf)\n",
    "print(f'F1 для RandomForest на валидационной выборке: {f1_val_rf:.4f}')"
   ]
  },
  {
   "cell_type": "code",
   "execution_count": null,
   "metadata": {},
   "outputs": [],
   "source": [
    "# CatBoost\n",
    "model_cat = CatBoostClassifier(iterations=500, depth=6, task_type=\"CPU\", verbose=100)\n",
    "model_cat.fit(X_train, y_train)\n",
    "y_val_pred_cat = model_cat.predict(X_val)\n",
    "f1_val_cat = f1_score(y_val, y_val_pred_cat)\n",
    "print(f'F1 для CatBoost на валидационной выборке: {f1_val_cat:.4f}')"
   ]
  },
  {
   "cell_type": "markdown",
   "metadata": {},
   "source": [
    "## Выводы"
   ]
  },
  {
   "cell_type": "code",
   "execution_count": null,
   "metadata": {},
   "outputs": [],
   "source": [
    "# Выбор лучшей модели\n",
    "best_model = None\n",
    "best_f1 = 0\n",
    "\n",
    "if f1_val_lr > best_f1:\n",
    "    best_model = best_model_lr\n",
    "    best_f1 = f1_val_lr\n",
    "\n",
    "if f1_val_cat > best_f1:\n",
    "    best_model = model_cat\n",
    "    best_f1 = f1_val_cat\n",
    "\n",
    "if f1_val_rf > best_f1:\n",
    "    best_model = model_rf\n",
    "    best_f1 = f1_val_rf\n",
    "\n",
    "print(f'Лучшая модель: {best_model.__class__.__name__} с F1-метрикой: {best_f1:.4f} на валидации')\n",
    "\n",
    "# Оценка на тестовой выборке\n",
    "if best_model.__class__.__name__ == 'LogisticRegression':\n",
    "    y_test_pred_proba = best_model.predict_proba(X_test)[:, 1]\n",
    "    y_test_pred = (y_test_pred_proba > best_threshold).astype(int)\n",
    "else:\n",
    "    y_test_pred = best_model.predict(X_test)\n",
    "\n",
    "f1_test = f1_score(y_test, y_test_pred)\n",
    "print(f'F1-метрика для лучшей модели ({best_model.__class__.__name__}) на тестовой выборке: {f1_test:.4f}')"
   ]
  },
  {
   "cell_type": "markdown",
   "metadata": {},
   "source": [
    "Вывод:"
   ]
  },
  {
   "cell_type": "markdown",
   "metadata": {},
   "source": [
    "Проведена необходимая предобработка датасета, включающая в себя лемматизацию и кодирование методом tf-idf, поскольку этот метод кодирования показал себя лучше, чем мешок слов. Дисбаланас классов был обнаружен, но не был устранен поскольку эксперименты показали, что он не влияет на метрику негативно. Также модели:логстическая регрессия, случайный лес,Catboost сравнивались на валидационной выборке. Лучшей оказалась логистическая регрессия, которая на тестовой показала f1=0.76, что больше принятого порога 0.75"
   ]
  }
 ],
 "metadata": {
  "ExecuteTimeLog": [
   {
    "duration": 434,
    "start_time": "2024-09-05T16:10:06.477Z"
   },
   {
    "duration": 3853,
    "start_time": "2024-09-05T16:10:28.475Z"
   },
   {
    "duration": 14,
    "start_time": "2024-09-05T16:10:42.247Z"
   },
   {
    "duration": 408,
    "start_time": "2024-09-07T17:31:02.841Z"
   },
   {
    "duration": 4008,
    "start_time": "2024-09-07T17:31:03.502Z"
   },
   {
    "duration": 14,
    "start_time": "2024-09-07T17:31:07.512Z"
   },
   {
    "duration": 33,
    "start_time": "2024-09-07T17:31:07.527Z"
   },
   {
    "duration": 1393,
    "start_time": "2024-09-08T06:37:09.258Z"
   },
   {
    "duration": 1308,
    "start_time": "2024-09-08T06:37:49.088Z"
   },
   {
    "duration": 14,
    "start_time": "2024-09-08T06:37:50.879Z"
   },
   {
    "duration": 33,
    "start_time": "2024-09-08T06:37:51.573Z"
   },
   {
    "duration": 125,
    "start_time": "2024-09-08T06:37:53.744Z"
   },
   {
    "duration": 86491,
    "start_time": "2024-09-08T06:38:17.038Z"
   },
   {
    "duration": 9388,
    "start_time": "2024-09-08T06:40:07.421Z"
   },
   {
    "duration": 51,
    "start_time": "2024-09-08T06:40:37.599Z"
   },
   {
    "duration": 56013,
    "start_time": "2024-09-08T06:41:04.917Z"
   },
   {
    "duration": 18,
    "start_time": "2024-09-08T06:44:01.362Z"
   },
   {
    "duration": 1381,
    "start_time": "2024-09-08T09:27:18.831Z"
   },
   {
    "duration": 1464,
    "start_time": "2024-09-08T09:27:20.214Z"
   },
   {
    "duration": 14,
    "start_time": "2024-09-08T09:27:21.680Z"
   },
   {
    "duration": 31,
    "start_time": "2024-09-08T09:27:21.695Z"
   },
   {
    "duration": 190,
    "start_time": "2024-09-08T09:27:21.729Z"
   },
   {
    "duration": 93308,
    "start_time": "2024-09-08T09:27:21.920Z"
   },
   {
    "duration": 10007,
    "start_time": "2024-09-08T09:28:55.230Z"
   },
   {
    "duration": 58,
    "start_time": "2024-09-08T09:29:05.238Z"
   },
   {
    "duration": 53870,
    "start_time": "2024-09-08T09:29:05.298Z"
   },
   {
    "duration": 18,
    "start_time": "2024-09-08T09:29:59.169Z"
   },
   {
    "duration": 612568,
    "start_time": "2024-09-08T09:29:59.189Z"
   },
   {
    "duration": 0,
    "start_time": "2024-09-08T09:40:11.759Z"
   },
   {
    "duration": 0,
    "start_time": "2024-09-08T09:40:11.760Z"
   },
   {
    "duration": 5,
    "start_time": "2024-09-08T10:06:27.693Z"
   },
   {
    "duration": 4,
    "start_time": "2024-09-08T10:10:37.465Z"
   },
   {
    "duration": 903,
    "start_time": "2024-09-08T10:10:38.591Z"
   },
   {
    "duration": 7,
    "start_time": "2024-09-08T10:10:40.200Z"
   },
   {
    "duration": 31,
    "start_time": "2024-09-08T10:10:40.890Z"
   },
   {
    "duration": 4,
    "start_time": "2024-09-08T10:10:41.469Z"
   },
   {
    "duration": 88614,
    "start_time": "2024-09-08T10:10:42.882Z"
   },
   {
    "duration": 4,
    "start_time": "2024-09-08T10:12:33.825Z"
   },
   {
    "duration": 10,
    "start_time": "2024-09-08T10:12:34.883Z"
   },
   {
    "duration": 4,
    "start_time": "2024-09-08T10:12:51.376Z"
   },
   {
    "duration": 9,
    "start_time": "2024-09-08T10:12:55.446Z"
   },
   {
    "duration": 32,
    "start_time": "2024-09-08T10:13:18.642Z"
   },
   {
    "duration": 962,
    "start_time": "2024-09-08T10:13:19.478Z"
   },
   {
    "duration": 9,
    "start_time": "2024-09-08T10:13:23.304Z"
   },
   {
    "duration": 4,
    "start_time": "2024-09-08T10:13:26.128Z"
   },
   {
    "duration": 33212,
    "start_time": "2024-09-08T10:13:30.655Z"
   },
   {
    "duration": 9,
    "start_time": "2024-09-08T10:14:11.078Z"
   },
   {
    "duration": 29405,
    "start_time": "2024-09-08T10:14:18.067Z"
   },
   {
    "duration": 5,
    "start_time": "2024-09-08T10:14:51.179Z"
   },
   {
    "duration": 7,
    "start_time": "2024-09-08T10:15:01.381Z"
   },
   {
    "duration": 3,
    "start_time": "2024-09-08T10:15:03.278Z"
   },
   {
    "duration": 1082,
    "start_time": "2024-09-08T10:15:06.110Z"
   },
   {
    "duration": 973,
    "start_time": "2024-09-08T10:18:13.237Z"
   },
   {
    "duration": 929,
    "start_time": "2024-09-08T10:19:17.116Z"
   },
   {
    "duration": 7,
    "start_time": "2024-09-08T10:19:18.049Z"
   },
   {
    "duration": 31,
    "start_time": "2024-09-08T10:19:18.120Z"
   },
   {
    "duration": 27,
    "start_time": "2024-09-08T10:19:18.955Z"
   },
   {
    "duration": 87492,
    "start_time": "2024-09-08T10:19:23.340Z"
   },
   {
    "duration": 10105,
    "start_time": "2024-09-08T10:20:55.804Z"
   },
   {
    "duration": 46,
    "start_time": "2024-09-08T10:21:26.694Z"
   },
   {
    "duration": 17,
    "start_time": "2024-09-08T10:21:39.489Z"
   },
   {
    "duration": 1446,
    "start_time": "2024-09-08T10:22:53.052Z"
   },
   {
    "duration": 1076,
    "start_time": "2024-09-08T10:22:57.341Z"
   },
   {
    "duration": 13,
    "start_time": "2024-09-08T10:22:59.107Z"
   },
   {
    "duration": 41,
    "start_time": "2024-09-08T10:23:01.851Z"
   },
   {
    "duration": 249,
    "start_time": "2024-09-08T10:23:03.200Z"
   },
   {
    "duration": 11,
    "start_time": "2024-09-08T10:24:13.659Z"
   },
   {
    "duration": 6,
    "start_time": "2024-09-08T10:24:17.820Z"
   },
   {
    "duration": 929,
    "start_time": "2024-09-08T10:24:27.982Z"
   },
   {
    "duration": 8,
    "start_time": "2024-09-08T10:24:28.913Z"
   },
   {
    "duration": 44,
    "start_time": "2024-09-08T10:24:28.922Z"
   },
   {
    "duration": 16,
    "start_time": "2024-09-08T10:24:29.810Z"
   },
   {
    "duration": 4,
    "start_time": "2024-09-08T10:24:31.213Z"
   },
   {
    "duration": 86241,
    "start_time": "2024-09-08T10:24:32.510Z"
   },
   {
    "duration": 9206,
    "start_time": "2024-09-08T10:26:04.383Z"
   },
   {
    "duration": 49,
    "start_time": "2024-09-08T10:26:24.001Z"
   },
   {
    "duration": 115,
    "start_time": "2024-09-08T10:26:27.264Z"
   },
   {
    "duration": 58594,
    "start_time": "2024-09-08T10:26:38.480Z"
   },
   {
    "duration": 18,
    "start_time": "2024-09-08T10:27:50.535Z"
   },
   {
    "duration": 105287,
    "start_time": "2024-09-08T10:29:21.478Z"
   },
   {
    "duration": 16,
    "start_time": "2024-09-08T10:31:28.602Z"
   },
   {
    "duration": 47402,
    "start_time": "2024-09-08T10:31:49.198Z"
   },
   {
    "duration": 2,
    "start_time": "2024-09-08T10:33:06.005Z"
   },
   {
    "duration": 4,
    "start_time": "2024-09-08T11:01:17.125Z"
   },
   {
    "duration": 966,
    "start_time": "2024-09-08T11:01:17.131Z"
   },
   {
    "duration": 8,
    "start_time": "2024-09-08T11:01:18.099Z"
   },
   {
    "duration": 81,
    "start_time": "2024-09-08T11:01:18.108Z"
   },
   {
    "duration": 10,
    "start_time": "2024-09-08T11:01:18.191Z"
   },
   {
    "duration": 11,
    "start_time": "2024-09-08T11:01:18.202Z"
   },
   {
    "duration": 4,
    "start_time": "2024-09-08T11:01:18.215Z"
   },
   {
    "duration": 2736,
    "start_time": "2024-09-08T11:01:18.221Z"
   },
   {
    "duration": 863,
    "start_time": "2024-09-08T11:01:20.960Z"
   },
   {
    "duration": 6,
    "start_time": "2024-09-08T11:01:21.826Z"
   },
   {
    "duration": 8,
    "start_time": "2024-09-08T11:01:21.834Z"
   },
   {
    "duration": 1523,
    "start_time": "2024-09-08T11:01:21.844Z"
   },
   {
    "duration": 17,
    "start_time": "2024-09-08T11:01:23.370Z"
   },
   {
    "duration": 77,
    "start_time": "2024-09-08T11:01:23.397Z"
   },
   {
    "duration": 84760,
    "start_time": "2024-09-08T11:01:23.476Z"
   },
   {
    "duration": 22,
    "start_time": "2024-09-08T11:02:48.237Z"
   },
   {
    "duration": 5,
    "start_time": "2024-09-08T11:02:48.260Z"
   },
   {
    "duration": 4,
    "start_time": "2024-09-08T11:14:15.531Z"
   },
   {
    "duration": 924,
    "start_time": "2024-09-08T11:14:18.994Z"
   },
   {
    "duration": 7,
    "start_time": "2024-09-08T11:14:19.921Z"
   },
   {
    "duration": 34,
    "start_time": "2024-09-08T11:14:22.681Z"
   },
   {
    "duration": 11,
    "start_time": "2024-09-08T11:14:23.235Z"
   },
   {
    "duration": 15,
    "start_time": "2024-09-08T11:14:24.374Z"
   },
   {
    "duration": 5,
    "start_time": "2024-09-08T11:14:26.958Z"
   },
   {
    "duration": 19,
    "start_time": "2024-09-08T11:14:27.757Z"
   },
   {
    "duration": 2644,
    "start_time": "2024-09-08T11:14:36.387Z"
   },
   {
    "duration": 714,
    "start_time": "2024-09-08T11:15:27.490Z"
   },
   {
    "duration": 7,
    "start_time": "2024-09-08T11:15:32.443Z"
   },
   {
    "duration": 627,
    "start_time": "2024-09-08T11:15:34.046Z"
   },
   {
    "duration": 6,
    "start_time": "2024-09-08T11:15:36.686Z"
   },
   {
    "duration": 816,
    "start_time": "2024-09-08T11:15:46.449Z"
   },
   {
    "duration": 6,
    "start_time": "2024-09-08T11:15:49.369Z"
   },
   {
    "duration": 6,
    "start_time": "2024-09-08T11:16:02.096Z"
   },
   {
    "duration": 823,
    "start_time": "2024-09-08T11:16:02.850Z"
   },
   {
    "duration": 7,
    "start_time": "2024-09-08T11:16:04.407Z"
   },
   {
    "duration": 80552,
    "start_time": "2024-09-08T11:16:13.484Z"
   },
   {
    "duration": 21,
    "start_time": "2024-09-08T11:18:08.462Z"
   },
   {
    "duration": 4,
    "start_time": "2024-09-08T11:18:11.240Z"
   },
   {
    "duration": 1342,
    "start_time": "2024-09-08T12:15:59.218Z"
   },
   {
    "duration": 971,
    "start_time": "2024-09-08T12:16:02.742Z"
   },
   {
    "duration": 13,
    "start_time": "2024-09-08T12:16:03.715Z"
   },
   {
    "duration": 33,
    "start_time": "2024-09-08T12:16:03.888Z"
   },
   {
    "duration": 19,
    "start_time": "2024-09-08T12:16:09.222Z"
   },
   {
    "duration": 12,
    "start_time": "2024-09-08T12:16:09.894Z"
   },
   {
    "duration": 136,
    "start_time": "2024-09-08T12:16:10.243Z"
   },
   {
    "duration": 6007,
    "start_time": "2024-09-08T12:16:10.608Z"
   },
   {
    "duration": 126,
    "start_time": "2024-09-08T12:16:16.617Z"
   },
   {
    "duration": 0,
    "start_time": "2024-09-08T12:16:16.746Z"
   },
   {
    "duration": 0,
    "start_time": "2024-09-08T12:16:16.747Z"
   },
   {
    "duration": 0,
    "start_time": "2024-09-08T12:16:16.748Z"
   },
   {
    "duration": 0,
    "start_time": "2024-09-08T12:16:16.750Z"
   },
   {
    "duration": 0,
    "start_time": "2024-09-08T12:16:16.764Z"
   },
   {
    "duration": 0,
    "start_time": "2024-09-08T12:16:16.765Z"
   },
   {
    "duration": 0,
    "start_time": "2024-09-08T12:16:16.766Z"
   },
   {
    "duration": 0,
    "start_time": "2024-09-08T12:16:16.768Z"
   },
   {
    "duration": 1444,
    "start_time": "2024-09-08T12:17:08.750Z"
   },
   {
    "duration": 1009,
    "start_time": "2024-09-08T12:17:10.195Z"
   },
   {
    "duration": 13,
    "start_time": "2024-09-08T12:17:11.205Z"
   },
   {
    "duration": 30,
    "start_time": "2024-09-08T12:17:11.220Z"
   },
   {
    "duration": 25,
    "start_time": "2024-09-08T12:17:11.264Z"
   },
   {
    "duration": 12,
    "start_time": "2024-09-08T12:17:11.291Z"
   },
   {
    "duration": 133,
    "start_time": "2024-09-08T12:17:11.304Z"
   },
   {
    "duration": 5882,
    "start_time": "2024-09-08T12:17:11.438Z"
   },
   {
    "duration": 1823,
    "start_time": "2024-09-08T12:17:17.322Z"
   },
   {
    "duration": 4,
    "start_time": "2024-09-08T12:17:19.147Z"
   },
   {
    "duration": 18,
    "start_time": "2024-09-08T12:17:19.153Z"
   },
   {
    "duration": 1702,
    "start_time": "2024-09-08T12:17:19.172Z"
   },
   {
    "duration": 97,
    "start_time": "2024-09-08T12:17:20.967Z"
   },
   {
    "duration": 11,
    "start_time": "2024-09-08T12:17:21.066Z"
   },
   {
    "duration": 109416,
    "start_time": "2024-09-08T12:17:21.078Z"
   },
   {
    "duration": 37,
    "start_time": "2024-09-08T12:19:10.496Z"
   },
   {
    "duration": 4,
    "start_time": "2024-09-08T12:19:10.534Z"
   },
   {
    "duration": 918,
    "start_time": "2024-09-08T12:24:09.523Z"
   },
   {
    "duration": 8,
    "start_time": "2024-09-08T12:24:10.442Z"
   },
   {
    "duration": 32,
    "start_time": "2024-09-08T12:24:12.529Z"
   },
   {
    "duration": 12,
    "start_time": "2024-09-08T12:25:06.349Z"
   },
   {
    "duration": 7,
    "start_time": "2024-09-08T12:25:07.393Z"
   },
   {
    "duration": 128,
    "start_time": "2024-09-08T12:35:07.274Z"
   },
   {
    "duration": 8216,
    "start_time": "2024-09-08T12:35:43.040Z"
   },
   {
    "duration": 28,
    "start_time": "2024-09-08T12:35:53.361Z"
   },
   {
    "duration": 2462,
    "start_time": "2024-09-08T12:36:22.272Z"
   },
   {
    "duration": 1329,
    "start_time": "2024-09-08T12:36:27.486Z"
   },
   {
    "duration": 988,
    "start_time": "2024-09-08T12:37:01.335Z"
   },
   {
    "duration": 14,
    "start_time": "2024-09-08T12:37:02.325Z"
   },
   {
    "duration": 45,
    "start_time": "2024-09-08T12:37:02.341Z"
   },
   {
    "duration": 11,
    "start_time": "2024-09-08T12:37:02.388Z"
   },
   {
    "duration": 15,
    "start_time": "2024-09-08T12:37:02.401Z"
   },
   {
    "duration": 12,
    "start_time": "2024-09-08T12:37:02.418Z"
   },
   {
    "duration": 162,
    "start_time": "2024-09-08T12:37:02.432Z"
   },
   {
    "duration": 5964,
    "start_time": "2024-09-08T12:37:03.564Z"
   },
   {
    "duration": 151,
    "start_time": "2024-09-08T12:37:09.530Z"
   },
   {
    "duration": 0,
    "start_time": "2024-09-08T12:37:09.683Z"
   },
   {
    "duration": 2454,
    "start_time": "2024-09-08T12:38:07.826Z"
   },
   {
    "duration": 1308,
    "start_time": "2024-09-08T12:38:10.283Z"
   },
   {
    "duration": 944,
    "start_time": "2024-09-08T12:38:14.284Z"
   },
   {
    "duration": 14,
    "start_time": "2024-09-08T12:38:15.230Z"
   },
   {
    "duration": 50,
    "start_time": "2024-09-08T12:38:15.245Z"
   },
   {
    "duration": 16,
    "start_time": "2024-09-08T12:38:15.297Z"
   },
   {
    "duration": 6,
    "start_time": "2024-09-08T12:38:15.365Z"
   },
   {
    "duration": 12,
    "start_time": "2024-09-08T12:38:18.391Z"
   },
   {
    "duration": 212,
    "start_time": "2024-09-08T12:38:20.030Z"
   },
   {
    "duration": 6241,
    "start_time": "2024-09-08T12:38:21.614Z"
   },
   {
    "duration": 131,
    "start_time": "2024-09-08T12:38:28.634Z"
   },
   {
    "duration": 1750,
    "start_time": "2024-09-08T12:45:52.661Z"
   },
   {
    "duration": 6,
    "start_time": "2024-09-08T12:47:17.368Z"
   },
   {
    "duration": 34,
    "start_time": "2024-09-08T12:47:27.056Z"
   },
   {
    "duration": 1162,
    "start_time": "2024-09-08T12:49:51.905Z"
   },
   {
    "duration": 7,
    "start_time": "2024-09-08T12:50:05.990Z"
   },
   {
    "duration": 171083,
    "start_time": "2024-09-08T12:52:26.542Z"
   },
   {
    "duration": 26,
    "start_time": "2024-09-08T12:55:26.432Z"
   },
   {
    "duration": 4,
    "start_time": "2024-09-08T12:55:31.945Z"
   },
   {
    "duration": 1360,
    "start_time": "2024-09-08T13:56:28.736Z"
   },
   {
    "duration": 1084,
    "start_time": "2024-09-08T13:56:31.228Z"
   },
   {
    "duration": 13,
    "start_time": "2024-09-08T13:56:32.314Z"
   },
   {
    "duration": 39,
    "start_time": "2024-09-08T13:56:32.329Z"
   },
   {
    "duration": 14,
    "start_time": "2024-09-08T13:56:32.372Z"
   },
   {
    "duration": 5,
    "start_time": "2024-09-08T13:56:32.396Z"
   },
   {
    "duration": 19,
    "start_time": "2024-09-08T13:56:32.403Z"
   },
   {
    "duration": 147,
    "start_time": "2024-09-08T13:56:33.254Z"
   },
   {
    "duration": 6423,
    "start_time": "2024-09-08T13:56:33.831Z"
   },
   {
    "duration": 1974,
    "start_time": "2024-09-08T13:56:40.256Z"
   },
   {
    "duration": 4,
    "start_time": "2024-09-08T13:56:42.231Z"
   },
   {
    "duration": 18,
    "start_time": "2024-09-08T13:56:42.237Z"
   },
   {
    "duration": 55,
    "start_time": "2024-09-08T13:56:42.256Z"
   },
   {
    "duration": 4,
    "start_time": "2024-09-08T13:56:44.543Z"
   },
   {
    "duration": 7,
    "start_time": "2024-09-08T13:56:45.165Z"
   },
   {
    "duration": 854,
    "start_time": "2024-09-08T13:56:53.016Z"
   },
   {
    "duration": 7,
    "start_time": "2024-09-08T13:56:56.910Z"
   },
   {
    "duration": 389175,
    "start_time": "2024-09-08T13:58:37.475Z"
   },
   {
    "duration": 2557,
    "start_time": "2024-09-08T14:06:25.927Z"
   },
   {
    "duration": 1342,
    "start_time": "2024-09-08T14:06:28.487Z"
   },
   {
    "duration": 991,
    "start_time": "2024-09-08T14:06:29.831Z"
   },
   {
    "duration": 14,
    "start_time": "2024-09-08T14:06:30.824Z"
   },
   {
    "duration": 43,
    "start_time": "2024-09-08T14:06:30.840Z"
   },
   {
    "duration": 10,
    "start_time": "2024-09-08T14:06:30.885Z"
   },
   {
    "duration": 10,
    "start_time": "2024-09-08T14:06:30.897Z"
   },
   {
    "duration": 23,
    "start_time": "2024-09-08T14:06:30.908Z"
   },
   {
    "duration": 154,
    "start_time": "2024-09-08T14:06:30.933Z"
   },
   {
    "duration": 6511,
    "start_time": "2024-09-08T14:06:31.089Z"
   },
   {
    "duration": 1865,
    "start_time": "2024-09-08T14:06:37.602Z"
   },
   {
    "duration": 4,
    "start_time": "2024-09-08T14:06:39.469Z"
   },
   {
    "duration": 26,
    "start_time": "2024-09-08T14:06:39.474Z"
   },
   {
    "duration": 9,
    "start_time": "2024-09-08T14:06:39.502Z"
   },
   {
    "duration": 31,
    "start_time": "2024-09-08T14:06:39.513Z"
   },
   {
    "duration": 3,
    "start_time": "2024-09-08T14:06:39.546Z"
   },
   {
    "duration": 722,
    "start_time": "2024-09-08T14:06:41.345Z"
   },
   {
    "duration": 8,
    "start_time": "2024-09-08T14:06:44.148Z"
   },
   {
    "duration": 3,
    "start_time": "2024-09-08T14:06:46.586Z"
   },
   {
    "duration": 8180,
    "start_time": "2024-09-08T14:06:46.989Z"
   },
   {
    "duration": 71449,
    "start_time": "2024-09-08T14:07:06.597Z"
   },
   {
    "duration": 2552,
    "start_time": "2024-09-08T14:10:04.149Z"
   },
   {
    "duration": 1278,
    "start_time": "2024-09-08T14:10:06.703Z"
   },
   {
    "duration": 956,
    "start_time": "2024-09-08T14:10:07.983Z"
   },
   {
    "duration": 13,
    "start_time": "2024-09-08T14:10:08.941Z"
   },
   {
    "duration": 58,
    "start_time": "2024-09-08T14:10:08.956Z"
   },
   {
    "duration": 44,
    "start_time": "2024-09-08T14:10:09.016Z"
   },
   {
    "duration": 30,
    "start_time": "2024-09-08T14:10:09.061Z"
   },
   {
    "duration": 20,
    "start_time": "2024-09-08T14:10:09.092Z"
   },
   {
    "duration": 132,
    "start_time": "2024-09-08T14:10:09.113Z"
   },
   {
    "duration": 6086,
    "start_time": "2024-09-08T14:10:09.247Z"
   },
   {
    "duration": 5,
    "start_time": "2024-09-08T14:10:15.334Z"
   },
   {
    "duration": 28,
    "start_time": "2024-09-08T14:10:15.340Z"
   },
   {
    "duration": 1658,
    "start_time": "2024-09-08T14:10:15.371Z"
   },
   {
    "duration": 6,
    "start_time": "2024-09-08T14:10:21.699Z"
   },
   {
    "duration": 7,
    "start_time": "2024-09-08T14:10:24.572Z"
   },
   {
    "duration": 32,
    "start_time": "2024-09-08T14:10:25.388Z"
   },
   {
    "duration": 5791,
    "start_time": "2024-09-08T14:10:27.077Z"
   },
   {
    "duration": 7,
    "start_time": "2024-09-08T14:10:34.488Z"
   },
   {
    "duration": 29159,
    "start_time": "2024-09-08T14:10:40.426Z"
   },
   {
    "duration": 30,
    "start_time": "2024-09-08T14:11:16.295Z"
   },
   {
    "duration": 2423,
    "start_time": "2024-09-08T14:11:34.780Z"
   },
   {
    "duration": 1320,
    "start_time": "2024-09-08T14:11:37.205Z"
   },
   {
    "duration": 923,
    "start_time": "2024-09-08T14:11:38.526Z"
   },
   {
    "duration": 17,
    "start_time": "2024-09-08T14:11:39.451Z"
   },
   {
    "duration": 34,
    "start_time": "2024-09-08T14:11:39.470Z"
   },
   {
    "duration": 10,
    "start_time": "2024-09-08T14:11:39.505Z"
   },
   {
    "duration": 6,
    "start_time": "2024-09-08T14:11:39.517Z"
   },
   {
    "duration": 13,
    "start_time": "2024-09-08T14:11:39.524Z"
   },
   {
    "duration": 248,
    "start_time": "2024-09-08T14:11:39.538Z"
   },
   {
    "duration": 6034,
    "start_time": "2024-09-08T14:11:39.789Z"
   },
   {
    "duration": 4,
    "start_time": "2024-09-08T14:11:45.825Z"
   },
   {
    "duration": 29,
    "start_time": "2024-09-08T14:11:45.831Z"
   },
   {
    "duration": 1575,
    "start_time": "2024-09-08T14:11:45.862Z"
   },
   {
    "duration": 6,
    "start_time": "2024-09-08T14:11:47.439Z"
   },
   {
    "duration": 15,
    "start_time": "2024-09-08T14:11:47.447Z"
   },
   {
    "duration": 33,
    "start_time": "2024-09-08T14:11:47.465Z"
   },
   {
    "duration": 6468,
    "start_time": "2024-09-08T14:11:47.499Z"
   },
   {
    "duration": 98,
    "start_time": "2024-09-08T14:11:53.968Z"
   },
   {
    "duration": 28774,
    "start_time": "2024-09-08T14:11:54.068Z"
   },
   {
    "duration": 32,
    "start_time": "2024-09-08T14:12:51.631Z"
   },
   {
    "duration": 2517,
    "start_time": "2024-09-08T14:13:28.401Z"
   },
   {
    "duration": 1303,
    "start_time": "2024-09-08T14:13:30.921Z"
   },
   {
    "duration": 942,
    "start_time": "2024-09-08T14:13:32.226Z"
   },
   {
    "duration": 12,
    "start_time": "2024-09-08T14:13:33.170Z"
   },
   {
    "duration": 36,
    "start_time": "2024-09-08T14:13:33.184Z"
   },
   {
    "duration": 9,
    "start_time": "2024-09-08T14:13:33.222Z"
   },
   {
    "duration": 21,
    "start_time": "2024-09-08T14:13:33.232Z"
   },
   {
    "duration": 14,
    "start_time": "2024-09-08T14:13:33.255Z"
   },
   {
    "duration": 137,
    "start_time": "2024-09-08T14:13:33.271Z"
   },
   {
    "duration": 6099,
    "start_time": "2024-09-08T14:13:33.411Z"
   },
   {
    "duration": 1768,
    "start_time": "2024-09-08T14:13:39.512Z"
   },
   {
    "duration": 4,
    "start_time": "2024-09-08T14:13:41.282Z"
   },
   {
    "duration": 18,
    "start_time": "2024-09-08T14:13:41.287Z"
   },
   {
    "duration": 8,
    "start_time": "2024-09-08T14:13:41.307Z"
   },
   {
    "duration": 52,
    "start_time": "2024-09-08T14:13:41.316Z"
   },
   {
    "duration": 996,
    "start_time": "2024-09-08T14:13:41.370Z"
   },
   {
    "duration": 101,
    "start_time": "2024-09-08T14:13:42.368Z"
   },
   {
    "duration": 172871,
    "start_time": "2024-09-08T14:13:42.471Z"
   },
   {
    "duration": 34,
    "start_time": "2024-09-08T14:16:35.344Z"
   },
   {
    "duration": 2500,
    "start_time": "2024-09-08T14:17:07.067Z"
   },
   {
    "duration": 1356,
    "start_time": "2024-09-08T14:17:09.569Z"
   },
   {
    "duration": 990,
    "start_time": "2024-09-08T14:17:10.927Z"
   },
   {
    "duration": 15,
    "start_time": "2024-09-08T14:17:11.919Z"
   },
   {
    "duration": 51,
    "start_time": "2024-09-08T14:17:11.936Z"
   },
   {
    "duration": 67,
    "start_time": "2024-09-08T14:17:11.989Z"
   },
   {
    "duration": 16,
    "start_time": "2024-09-08T14:17:12.058Z"
   },
   {
    "duration": 26,
    "start_time": "2024-09-08T14:17:12.076Z"
   },
   {
    "duration": 204,
    "start_time": "2024-09-08T14:17:12.104Z"
   },
   {
    "duration": 6259,
    "start_time": "2024-09-08T14:17:12.311Z"
   },
   {
    "duration": 1842,
    "start_time": "2024-09-08T14:17:18.571Z"
   },
   {
    "duration": 4,
    "start_time": "2024-09-08T14:17:20.415Z"
   },
   {
    "duration": 19,
    "start_time": "2024-09-08T14:17:20.421Z"
   },
   {
    "duration": 8,
    "start_time": "2024-09-08T14:17:20.441Z"
   },
   {
    "duration": 44,
    "start_time": "2024-09-08T14:17:20.450Z"
   },
   {
    "duration": 682,
    "start_time": "2024-09-08T14:17:20.495Z"
   },
   {
    "duration": 88,
    "start_time": "2024-09-08T14:17:21.179Z"
   },
   {
    "duration": 177164,
    "start_time": "2024-09-08T14:17:21.270Z"
   },
   {
    "duration": 30,
    "start_time": "2024-09-08T14:20:18.436Z"
   },
   {
    "duration": 2550,
    "start_time": "2024-09-08T14:24:43.438Z"
   },
   {
    "duration": 4,
    "start_time": "2024-09-08T14:24:45.992Z"
   },
   {
    "duration": 976,
    "start_time": "2024-09-08T14:24:45.999Z"
   },
   {
    "duration": 9,
    "start_time": "2024-09-08T14:24:46.977Z"
   },
   {
    "duration": 39,
    "start_time": "2024-09-08T14:24:46.988Z"
   },
   {
    "duration": 86,
    "start_time": "2024-09-08T14:24:47.028Z"
   },
   {
    "duration": 5,
    "start_time": "2024-09-08T14:24:47.116Z"
   },
   {
    "duration": 13,
    "start_time": "2024-09-08T14:24:47.123Z"
   },
   {
    "duration": 20,
    "start_time": "2024-09-08T14:24:47.138Z"
   },
   {
    "duration": 6468,
    "start_time": "2024-09-08T14:24:47.160Z"
   },
   {
    "duration": 1829,
    "start_time": "2024-09-08T14:24:53.629Z"
   },
   {
    "duration": 6,
    "start_time": "2024-09-08T14:24:55.460Z"
   },
   {
    "duration": 25,
    "start_time": "2024-09-08T14:24:55.468Z"
   },
   {
    "duration": 8,
    "start_time": "2024-09-08T14:24:55.496Z"
   },
   {
    "duration": 35,
    "start_time": "2024-09-08T14:24:55.506Z"
   },
   {
    "duration": 1124,
    "start_time": "2024-09-08T14:24:55.543Z"
   },
   {
    "duration": 100,
    "start_time": "2024-09-08T14:24:56.669Z"
   },
   {
    "duration": 2491,
    "start_time": "2024-09-08T14:25:22.455Z"
   },
   {
    "duration": 4,
    "start_time": "2024-09-08T14:25:24.948Z"
   },
   {
    "duration": 914,
    "start_time": "2024-09-08T14:25:24.953Z"
   },
   {
    "duration": 12,
    "start_time": "2024-09-08T14:25:25.870Z"
   },
   {
    "duration": 32,
    "start_time": "2024-09-08T14:25:25.884Z"
   },
   {
    "duration": 11,
    "start_time": "2024-09-08T14:25:25.918Z"
   },
   {
    "duration": 10,
    "start_time": "2024-09-08T14:25:25.930Z"
   },
   {
    "duration": 34,
    "start_time": "2024-09-08T14:25:25.941Z"
   },
   {
    "duration": 21,
    "start_time": "2024-09-08T14:25:25.977Z"
   },
   {
    "duration": 6205,
    "start_time": "2024-09-08T14:25:26.000Z"
   },
   {
    "duration": 1808,
    "start_time": "2024-09-08T14:25:32.207Z"
   },
   {
    "duration": 4,
    "start_time": "2024-09-08T14:25:34.016Z"
   },
   {
    "duration": 14,
    "start_time": "2024-09-08T14:25:34.022Z"
   },
   {
    "duration": 14,
    "start_time": "2024-09-08T14:25:34.038Z"
   },
   {
    "duration": 38,
    "start_time": "2024-09-08T14:25:34.054Z"
   },
   {
    "duration": 73,
    "start_time": "2024-09-08T14:25:34.093Z"
   },
   {
    "duration": 7,
    "start_time": "2024-09-08T14:25:34.168Z"
   },
   {
    "duration": 2927,
    "start_time": "2024-09-08T14:27:14.265Z"
   },
   {
    "duration": 4,
    "start_time": "2024-09-08T14:27:17.194Z"
   },
   {
    "duration": 863,
    "start_time": "2024-09-08T14:27:17.200Z"
   },
   {
    "duration": 8,
    "start_time": "2024-09-08T14:27:18.066Z"
   },
   {
    "duration": 41,
    "start_time": "2024-09-08T14:27:18.075Z"
   },
   {
    "duration": 10,
    "start_time": "2024-09-08T14:27:18.117Z"
   },
   {
    "duration": 6,
    "start_time": "2024-09-08T14:27:18.129Z"
   },
   {
    "duration": 29,
    "start_time": "2024-09-08T14:27:18.136Z"
   },
   {
    "duration": 20,
    "start_time": "2024-09-08T14:27:18.167Z"
   },
   {
    "duration": 6255,
    "start_time": "2024-09-08T14:27:18.189Z"
   },
   {
    "duration": 1772,
    "start_time": "2024-09-08T14:27:24.446Z"
   },
   {
    "duration": 4,
    "start_time": "2024-09-08T14:27:26.220Z"
   },
   {
    "duration": 8,
    "start_time": "2024-09-08T14:27:26.225Z"
   },
   {
    "duration": 11,
    "start_time": "2024-09-08T14:27:26.235Z"
   },
   {
    "duration": 49,
    "start_time": "2024-09-08T14:27:26.248Z"
   },
   {
    "duration": 67,
    "start_time": "2024-09-08T14:27:26.299Z"
   },
   {
    "duration": 7,
    "start_time": "2024-09-08T14:27:26.367Z"
   },
   {
    "duration": 170665,
    "start_time": "2024-09-08T14:27:45.172Z"
   },
   {
    "duration": 26,
    "start_time": "2024-09-08T14:30:35.839Z"
   },
   {
    "duration": 2602,
    "start_time": "2024-09-08T14:31:52.307Z"
   },
   {
    "duration": 5,
    "start_time": "2024-09-08T14:31:54.912Z"
   },
   {
    "duration": 920,
    "start_time": "2024-09-08T14:31:54.919Z"
   },
   {
    "duration": 8,
    "start_time": "2024-09-08T14:31:55.841Z"
   },
   {
    "duration": 47,
    "start_time": "2024-09-08T14:31:55.851Z"
   },
   {
    "duration": 15,
    "start_time": "2024-09-08T14:31:55.901Z"
   },
   {
    "duration": 23,
    "start_time": "2024-09-08T14:31:55.918Z"
   },
   {
    "duration": 22,
    "start_time": "2024-09-08T14:31:55.943Z"
   },
   {
    "duration": 27,
    "start_time": "2024-09-08T14:31:55.967Z"
   },
   {
    "duration": 6610,
    "start_time": "2024-09-08T14:31:55.996Z"
   },
   {
    "duration": 1879,
    "start_time": "2024-09-08T14:32:02.608Z"
   },
   {
    "duration": 4,
    "start_time": "2024-09-08T14:32:04.488Z"
   },
   {
    "duration": 9,
    "start_time": "2024-09-08T14:32:04.493Z"
   },
   {
    "duration": 20,
    "start_time": "2024-09-08T14:32:04.504Z"
   },
   {
    "duration": 33,
    "start_time": "2024-09-08T14:32:04.525Z"
   },
   {
    "duration": 68,
    "start_time": "2024-09-08T14:32:04.560Z"
   },
   {
    "duration": 7,
    "start_time": "2024-09-08T14:32:04.629Z"
   },
   {
    "duration": 2532,
    "start_time": "2024-09-08T14:32:33.687Z"
   },
   {
    "duration": 4,
    "start_time": "2024-09-08T14:32:36.221Z"
   },
   {
    "duration": 884,
    "start_time": "2024-09-08T14:32:36.227Z"
   },
   {
    "duration": 8,
    "start_time": "2024-09-08T14:32:37.113Z"
   },
   {
    "duration": 42,
    "start_time": "2024-09-08T14:32:37.122Z"
   },
   {
    "duration": 10,
    "start_time": "2024-09-08T14:32:37.166Z"
   },
   {
    "duration": 10,
    "start_time": "2024-09-08T14:32:37.177Z"
   },
   {
    "duration": 14,
    "start_time": "2024-09-08T14:32:37.189Z"
   },
   {
    "duration": 20,
    "start_time": "2024-09-08T14:32:37.204Z"
   },
   {
    "duration": 6392,
    "start_time": "2024-09-08T14:32:37.226Z"
   },
   {
    "duration": 1812,
    "start_time": "2024-09-08T14:32:43.620Z"
   },
   {
    "duration": 4,
    "start_time": "2024-09-08T14:32:45.433Z"
   },
   {
    "duration": 38,
    "start_time": "2024-09-08T14:32:45.438Z"
   },
   {
    "duration": 17,
    "start_time": "2024-09-08T14:32:45.478Z"
   },
   {
    "duration": 40,
    "start_time": "2024-09-08T14:32:45.496Z"
   },
   {
    "duration": 58,
    "start_time": "2024-09-08T14:32:45.537Z"
   },
   {
    "duration": 8,
    "start_time": "2024-09-08T14:32:45.598Z"
   },
   {
    "duration": 2611,
    "start_time": "2024-09-08T14:33:08.508Z"
   },
   {
    "duration": 5,
    "start_time": "2024-09-08T14:33:11.121Z"
   },
   {
    "duration": 868,
    "start_time": "2024-09-08T14:33:11.127Z"
   },
   {
    "duration": 8,
    "start_time": "2024-09-08T14:33:11.996Z"
   },
   {
    "duration": 47,
    "start_time": "2024-09-08T14:33:12.006Z"
   },
   {
    "duration": 37,
    "start_time": "2024-09-08T14:33:12.055Z"
   },
   {
    "duration": 28,
    "start_time": "2024-09-08T14:33:12.095Z"
   },
   {
    "duration": 12,
    "start_time": "2024-09-08T14:33:12.125Z"
   },
   {
    "duration": 33,
    "start_time": "2024-09-08T14:33:12.139Z"
   },
   {
    "duration": 6506,
    "start_time": "2024-09-08T14:33:12.174Z"
   },
   {
    "duration": 1802,
    "start_time": "2024-09-08T14:33:18.683Z"
   },
   {
    "duration": 4,
    "start_time": "2024-09-08T14:33:20.487Z"
   },
   {
    "duration": 20,
    "start_time": "2024-09-08T14:33:20.492Z"
   },
   {
    "duration": 7,
    "start_time": "2024-09-08T14:33:20.515Z"
   },
   {
    "duration": 42,
    "start_time": "2024-09-08T14:33:20.524Z"
   },
   {
    "duration": 68,
    "start_time": "2024-09-08T14:33:20.568Z"
   },
   {
    "duration": 9,
    "start_time": "2024-09-08T14:33:20.638Z"
   },
   {
    "duration": 2473,
    "start_time": "2024-09-08T14:35:05.356Z"
   },
   {
    "duration": 5,
    "start_time": "2024-09-08T14:35:07.831Z"
   },
   {
    "duration": 927,
    "start_time": "2024-09-08T14:35:07.838Z"
   },
   {
    "duration": 8,
    "start_time": "2024-09-08T14:35:08.767Z"
   },
   {
    "duration": 45,
    "start_time": "2024-09-08T14:35:08.777Z"
   },
   {
    "duration": 21,
    "start_time": "2024-09-08T14:35:08.824Z"
   },
   {
    "duration": 33,
    "start_time": "2024-09-08T14:35:08.846Z"
   },
   {
    "duration": 718,
    "start_time": "2024-09-08T14:35:08.881Z"
   },
   {
    "duration": 14,
    "start_time": "2024-09-08T14:35:09.601Z"
   },
   {
    "duration": 51,
    "start_time": "2024-09-08T14:35:09.617Z"
   },
   {
    "duration": 6379,
    "start_time": "2024-09-08T14:35:09.670Z"
   },
   {
    "duration": 1849,
    "start_time": "2024-09-08T14:35:16.051Z"
   },
   {
    "duration": 5,
    "start_time": "2024-09-08T14:35:17.902Z"
   },
   {
    "duration": 10,
    "start_time": "2024-09-08T14:35:17.910Z"
   },
   {
    "duration": 10,
    "start_time": "2024-09-08T14:35:17.923Z"
   },
   {
    "duration": 61,
    "start_time": "2024-09-08T14:35:17.934Z"
   },
   {
    "duration": 78,
    "start_time": "2024-09-08T14:35:17.997Z"
   },
   {
    "duration": 9,
    "start_time": "2024-09-08T14:35:18.077Z"
   },
   {
    "duration": 4,
    "start_time": "2024-09-08T14:35:18.088Z"
   },
   {
    "duration": 181375,
    "start_time": "2024-09-08T14:35:18.093Z"
   },
   {
    "duration": 30,
    "start_time": "2024-09-08T14:38:19.470Z"
   },
   {
    "duration": 5,
    "start_time": "2024-09-08T14:38:19.501Z"
   },
   {
    "duration": 2452,
    "start_time": "2024-09-08T14:42:11.896Z"
   },
   {
    "duration": 4,
    "start_time": "2024-09-08T14:42:14.351Z"
   },
   {
    "duration": 885,
    "start_time": "2024-09-08T14:42:14.356Z"
   },
   {
    "duration": 8,
    "start_time": "2024-09-08T14:42:15.243Z"
   },
   {
    "duration": 52,
    "start_time": "2024-09-08T14:42:15.253Z"
   },
   {
    "duration": 30,
    "start_time": "2024-09-08T14:42:15.307Z"
   },
   {
    "duration": 11,
    "start_time": "2024-09-08T14:42:15.339Z"
   },
   {
    "duration": 29,
    "start_time": "2024-09-08T14:42:15.352Z"
   },
   {
    "duration": 26,
    "start_time": "2024-09-08T14:42:15.383Z"
   },
   {
    "duration": 6030,
    "start_time": "2024-09-08T14:42:15.411Z"
   },
   {
    "duration": 1727,
    "start_time": "2024-09-08T14:42:21.442Z"
   },
   {
    "duration": 3,
    "start_time": "2024-09-08T14:42:23.171Z"
   },
   {
    "duration": 53,
    "start_time": "2024-09-08T14:42:23.176Z"
   },
   {
    "duration": 11,
    "start_time": "2024-09-08T14:42:23.232Z"
   },
   {
    "duration": 35,
    "start_time": "2024-09-08T14:42:23.244Z"
   },
   {
    "duration": 61,
    "start_time": "2024-09-08T14:42:23.281Z"
   },
   {
    "duration": 8,
    "start_time": "2024-09-08T14:42:23.343Z"
   },
   {
    "duration": 2531,
    "start_time": "2024-09-08T14:42:51.381Z"
   },
   {
    "duration": 4,
    "start_time": "2024-09-08T14:42:53.915Z"
   },
   {
    "duration": 858,
    "start_time": "2024-09-08T14:42:53.920Z"
   },
   {
    "duration": 7,
    "start_time": "2024-09-08T14:42:54.780Z"
   },
   {
    "duration": 36,
    "start_time": "2024-09-08T14:42:54.790Z"
   },
   {
    "duration": 18,
    "start_time": "2024-09-08T14:42:54.827Z"
   },
   {
    "duration": 24,
    "start_time": "2024-09-08T14:42:54.847Z"
   },
   {
    "duration": 38,
    "start_time": "2024-09-08T14:42:54.873Z"
   },
   {
    "duration": 22,
    "start_time": "2024-09-08T14:42:54.913Z"
   },
   {
    "duration": 6194,
    "start_time": "2024-09-08T14:42:54.936Z"
   },
   {
    "duration": 1792,
    "start_time": "2024-09-08T14:43:01.132Z"
   },
   {
    "duration": 3,
    "start_time": "2024-09-08T14:43:02.925Z"
   },
   {
    "duration": 30,
    "start_time": "2024-09-08T14:43:02.930Z"
   },
   {
    "duration": 17,
    "start_time": "2024-09-08T14:43:02.962Z"
   },
   {
    "duration": 34,
    "start_time": "2024-09-08T14:43:02.980Z"
   },
   {
    "duration": 66,
    "start_time": "2024-09-08T14:43:03.015Z"
   },
   {
    "duration": 8,
    "start_time": "2024-09-08T14:43:03.082Z"
   },
   {
    "duration": 4,
    "start_time": "2024-09-08T14:47:10.046Z"
   },
   {
    "duration": 2573,
    "start_time": "2024-09-08T14:47:48.960Z"
   },
   {
    "duration": 1384,
    "start_time": "2024-09-08T14:47:51.535Z"
   },
   {
    "duration": 1010,
    "start_time": "2024-09-08T14:47:52.921Z"
   },
   {
    "duration": 19,
    "start_time": "2024-09-08T14:47:53.933Z"
   },
   {
    "duration": 45,
    "start_time": "2024-09-08T14:47:53.955Z"
   },
   {
    "duration": 11,
    "start_time": "2024-09-08T14:47:54.003Z"
   },
   {
    "duration": 17,
    "start_time": "2024-09-08T14:47:54.016Z"
   },
   {
    "duration": 34,
    "start_time": "2024-09-08T14:47:54.036Z"
   },
   {
    "duration": 221,
    "start_time": "2024-09-08T14:47:54.072Z"
   },
   {
    "duration": 6226,
    "start_time": "2024-09-08T14:47:54.294Z"
   },
   {
    "duration": 1875,
    "start_time": "2024-09-08T14:48:00.522Z"
   },
   {
    "duration": 4,
    "start_time": "2024-09-08T14:48:02.399Z"
   },
   {
    "duration": 34,
    "start_time": "2024-09-08T14:48:02.404Z"
   },
   {
    "duration": 35,
    "start_time": "2024-09-08T14:48:02.440Z"
   },
   {
    "duration": 35,
    "start_time": "2024-09-08T14:48:02.476Z"
   },
   {
    "duration": 17766,
    "start_time": "2024-09-08T14:48:02.513Z"
   },
   {
    "duration": 4,
    "start_time": "2024-09-08T14:48:20.366Z"
   },
   {
    "duration": 103,
    "start_time": "2024-09-08T14:48:20.374Z"
   },
   {
    "duration": 2593,
    "start_time": "2024-09-08T14:50:01.570Z"
   },
   {
    "duration": 4,
    "start_time": "2024-09-08T14:50:04.166Z"
   },
   {
    "duration": 965,
    "start_time": "2024-09-08T14:50:04.172Z"
   },
   {
    "duration": 9,
    "start_time": "2024-09-08T14:50:05.139Z"
   },
   {
    "duration": 55,
    "start_time": "2024-09-08T14:50:05.150Z"
   },
   {
    "duration": 10,
    "start_time": "2024-09-08T14:50:05.208Z"
   },
   {
    "duration": 10,
    "start_time": "2024-09-08T14:50:05.220Z"
   },
   {
    "duration": 18,
    "start_time": "2024-09-08T14:50:05.232Z"
   },
   {
    "duration": 27,
    "start_time": "2024-09-08T14:50:05.252Z"
   },
   {
    "duration": 6388,
    "start_time": "2024-09-08T14:50:05.281Z"
   },
   {
    "duration": 1829,
    "start_time": "2024-09-08T14:50:11.671Z"
   },
   {
    "duration": 4,
    "start_time": "2024-09-08T14:50:13.502Z"
   },
   {
    "duration": 23,
    "start_time": "2024-09-08T14:50:13.507Z"
   },
   {
    "duration": 19,
    "start_time": "2024-09-08T14:50:13.533Z"
   },
   {
    "duration": 40,
    "start_time": "2024-09-08T14:50:13.554Z"
   },
   {
    "duration": 1010,
    "start_time": "2024-09-08T14:50:13.596Z"
   },
   {
    "duration": 2,
    "start_time": "2024-09-08T14:50:14.608Z"
   },
   {
    "duration": 16,
    "start_time": "2024-09-08T14:50:14.612Z"
   },
   {
    "duration": 2630,
    "start_time": "2024-09-08T14:54:26.792Z"
   },
   {
    "duration": 5,
    "start_time": "2024-09-08T14:54:29.424Z"
   },
   {
    "duration": 1010,
    "start_time": "2024-09-08T14:54:29.431Z"
   },
   {
    "duration": 9,
    "start_time": "2024-09-08T14:54:30.442Z"
   },
   {
    "duration": 59,
    "start_time": "2024-09-08T14:54:30.453Z"
   },
   {
    "duration": 16,
    "start_time": "2024-09-08T14:54:30.514Z"
   },
   {
    "duration": 15,
    "start_time": "2024-09-08T14:54:30.531Z"
   },
   {
    "duration": 12,
    "start_time": "2024-09-08T14:54:30.547Z"
   },
   {
    "duration": 32,
    "start_time": "2024-09-08T14:54:30.561Z"
   },
   {
    "duration": 6961,
    "start_time": "2024-09-08T14:54:30.595Z"
   },
   {
    "duration": 2052,
    "start_time": "2024-09-08T14:54:37.558Z"
   },
   {
    "duration": 5,
    "start_time": "2024-09-08T14:54:39.612Z"
   },
   {
    "duration": 17,
    "start_time": "2024-09-08T14:54:39.618Z"
   },
   {
    "duration": 8,
    "start_time": "2024-09-08T14:54:39.638Z"
   },
   {
    "duration": 64,
    "start_time": "2024-09-08T14:54:39.647Z"
   },
   {
    "duration": 1115,
    "start_time": "2024-09-08T14:54:39.712Z"
   },
   {
    "duration": 4,
    "start_time": "2024-09-08T14:54:40.829Z"
   },
   {
    "duration": 19,
    "start_time": "2024-09-08T14:54:40.834Z"
   },
   {
    "duration": 39,
    "start_time": "2024-09-08T14:54:43.156Z"
   },
   {
    "duration": 2658,
    "start_time": "2024-09-08T14:55:49.095Z"
   },
   {
    "duration": 1383,
    "start_time": "2024-09-08T14:55:51.756Z"
   },
   {
    "duration": 1083,
    "start_time": "2024-09-08T14:55:53.141Z"
   },
   {
    "duration": 13,
    "start_time": "2024-09-08T14:55:54.226Z"
   },
   {
    "duration": 57,
    "start_time": "2024-09-08T14:55:54.241Z"
   },
   {
    "duration": 10,
    "start_time": "2024-09-08T14:55:54.300Z"
   },
   {
    "duration": 8,
    "start_time": "2024-09-08T14:55:54.311Z"
   },
   {
    "duration": 17,
    "start_time": "2024-09-08T14:55:54.320Z"
   },
   {
    "duration": 213,
    "start_time": "2024-09-08T14:55:54.339Z"
   },
   {
    "duration": 6810,
    "start_time": "2024-09-08T14:55:54.555Z"
   },
   {
    "duration": 3710,
    "start_time": "2024-09-08T14:56:01.371Z"
   },
   {
    "duration": 6,
    "start_time": "2024-09-08T14:56:05.084Z"
   },
   {
    "duration": 22,
    "start_time": "2024-09-08T14:56:05.092Z"
   },
   {
    "duration": 77,
    "start_time": "2024-09-08T14:56:05.115Z"
   },
   {
    "duration": 57,
    "start_time": "2024-09-08T14:56:05.194Z"
   },
   {
    "duration": 1101,
    "start_time": "2024-09-08T14:56:05.253Z"
   },
   {
    "duration": 3,
    "start_time": "2024-09-08T14:56:06.355Z"
   },
   {
    "duration": 30,
    "start_time": "2024-09-08T14:56:06.365Z"
   },
   {
    "duration": 30,
    "start_time": "2024-09-08T14:56:06.397Z"
   },
   {
    "duration": 26086,
    "start_time": "2024-09-08T14:56:27.178Z"
   },
   {
    "duration": 3,
    "start_time": "2024-09-08T14:56:56.035Z"
   },
   {
    "duration": 7,
    "start_time": "2024-09-08T14:56:58.791Z"
   },
   {
    "duration": 43,
    "start_time": "2024-09-08T14:57:01.221Z"
   },
   {
    "duration": 178032,
    "start_time": "2024-09-08T14:57:24.750Z"
   },
   {
    "duration": 42,
    "start_time": "2024-09-08T15:00:27.393Z"
   },
   {
    "duration": 918,
    "start_time": "2024-09-08T15:00:47.792Z"
   },
   {
    "duration": 3,
    "start_time": "2024-09-08T15:00:48.712Z"
   },
   {
    "duration": 10,
    "start_time": "2024-09-08T15:00:48.716Z"
   },
   {
    "duration": 31,
    "start_time": "2024-09-08T15:00:52.057Z"
   },
   {
    "duration": 2492,
    "start_time": "2024-09-08T15:02:00.504Z"
   },
   {
    "duration": 1298,
    "start_time": "2024-09-08T15:02:02.999Z"
   },
   {
    "duration": 969,
    "start_time": "2024-09-08T15:02:04.299Z"
   },
   {
    "duration": 19,
    "start_time": "2024-09-08T15:02:05.270Z"
   },
   {
    "duration": 38,
    "start_time": "2024-09-08T15:02:05.291Z"
   },
   {
    "duration": 34,
    "start_time": "2024-09-08T15:02:05.331Z"
   },
   {
    "duration": 7,
    "start_time": "2024-09-08T15:02:05.368Z"
   },
   {
    "duration": 15,
    "start_time": "2024-09-08T15:02:05.377Z"
   },
   {
    "duration": 227,
    "start_time": "2024-09-08T15:02:05.393Z"
   },
   {
    "duration": 6542,
    "start_time": "2024-09-08T15:02:05.623Z"
   },
   {
    "duration": 3255,
    "start_time": "2024-09-08T15:02:12.166Z"
   },
   {
    "duration": 4,
    "start_time": "2024-09-08T15:02:15.423Z"
   },
   {
    "duration": 25,
    "start_time": "2024-09-08T15:02:15.428Z"
   },
   {
    "duration": 7,
    "start_time": "2024-09-08T15:02:15.455Z"
   },
   {
    "duration": 36,
    "start_time": "2024-09-08T15:02:15.463Z"
   },
   {
    "duration": 908,
    "start_time": "2024-09-08T15:02:15.500Z"
   },
   {
    "duration": 3,
    "start_time": "2024-09-08T15:02:16.410Z"
   },
   {
    "duration": 9,
    "start_time": "2024-09-08T15:02:16.415Z"
   },
   {
    "duration": 48,
    "start_time": "2024-09-08T15:02:16.426Z"
   },
   {
    "duration": 4,
    "start_time": "2024-09-08T15:02:16.475Z"
   },
   {
    "duration": 7,
    "start_time": "2024-09-08T15:02:16.480Z"
   },
   {
    "duration": 70122,
    "start_time": "2024-09-08T15:02:16.488Z"
   },
   {
    "duration": 0,
    "start_time": "2024-09-08T15:03:26.612Z"
   },
   {
    "duration": 0,
    "start_time": "2024-09-08T15:03:26.613Z"
   },
   {
    "duration": 1,
    "start_time": "2024-09-08T15:03:26.614Z"
   },
   {
    "duration": 2493,
    "start_time": "2024-09-08T15:03:33.941Z"
   },
   {
    "duration": 5,
    "start_time": "2024-09-08T15:03:36.437Z"
   },
   {
    "duration": 916,
    "start_time": "2024-09-08T15:03:36.444Z"
   },
   {
    "duration": 8,
    "start_time": "2024-09-08T15:03:37.362Z"
   },
   {
    "duration": 40,
    "start_time": "2024-09-08T15:03:37.372Z"
   },
   {
    "duration": 11,
    "start_time": "2024-09-08T15:03:37.413Z"
   },
   {
    "duration": 20,
    "start_time": "2024-09-08T15:03:37.425Z"
   },
   {
    "duration": 13,
    "start_time": "2024-09-08T15:03:37.447Z"
   },
   {
    "duration": 5,
    "start_time": "2024-09-08T15:03:37.464Z"
   },
   {
    "duration": 5927,
    "start_time": "2024-09-08T15:03:37.470Z"
   },
   {
    "duration": 3192,
    "start_time": "2024-09-08T15:03:43.399Z"
   },
   {
    "duration": 3,
    "start_time": "2024-09-08T15:03:46.593Z"
   },
   {
    "duration": 11,
    "start_time": "2024-09-08T15:03:46.598Z"
   },
   {
    "duration": 7,
    "start_time": "2024-09-08T15:03:46.611Z"
   },
   {
    "duration": 47,
    "start_time": "2024-09-08T15:03:46.620Z"
   },
   {
    "duration": 16706,
    "start_time": "2024-09-08T15:03:46.669Z"
   },
   {
    "duration": 9,
    "start_time": "2024-09-08T15:04:03.466Z"
   },
   {
    "duration": 15,
    "start_time": "2024-09-08T15:04:03.565Z"
   },
   {
    "duration": 30,
    "start_time": "2024-09-08T15:04:03.582Z"
   },
   {
    "duration": 2475,
    "start_time": "2024-09-08T15:05:10.065Z"
   },
   {
    "duration": 5,
    "start_time": "2024-09-08T15:05:12.542Z"
   },
   {
    "duration": 941,
    "start_time": "2024-09-08T15:05:12.549Z"
   },
   {
    "duration": 9,
    "start_time": "2024-09-08T15:05:13.492Z"
   },
   {
    "duration": 46,
    "start_time": "2024-09-08T15:05:13.504Z"
   },
   {
    "duration": 25,
    "start_time": "2024-09-08T15:05:13.553Z"
   },
   {
    "duration": 29,
    "start_time": "2024-09-08T15:05:13.580Z"
   },
   {
    "duration": 43,
    "start_time": "2024-09-08T15:05:13.611Z"
   },
   {
    "duration": 29,
    "start_time": "2024-09-08T15:05:13.656Z"
   },
   {
    "duration": 6337,
    "start_time": "2024-09-08T15:05:13.687Z"
   },
   {
    "duration": 3227,
    "start_time": "2024-09-08T15:05:20.026Z"
   },
   {
    "duration": 4,
    "start_time": "2024-09-08T15:05:23.254Z"
   },
   {
    "duration": 12,
    "start_time": "2024-09-08T15:05:23.265Z"
   },
   {
    "duration": 7,
    "start_time": "2024-09-08T15:05:23.280Z"
   },
   {
    "duration": 35,
    "start_time": "2024-09-08T15:05:23.288Z"
   },
   {
    "duration": 966,
    "start_time": "2024-09-08T15:05:23.325Z"
   },
   {
    "duration": 2,
    "start_time": "2024-09-08T15:05:24.293Z"
   },
   {
    "duration": 15,
    "start_time": "2024-09-08T15:05:24.297Z"
   },
   {
    "duration": 29,
    "start_time": "2024-09-08T15:05:24.313Z"
   },
   {
    "duration": 2592,
    "start_time": "2024-09-08T15:05:48.922Z"
   },
   {
    "duration": 4,
    "start_time": "2024-09-08T15:05:51.517Z"
   },
   {
    "duration": 974,
    "start_time": "2024-09-08T15:05:51.523Z"
   },
   {
    "duration": 8,
    "start_time": "2024-09-08T15:05:52.500Z"
   },
   {
    "duration": 40,
    "start_time": "2024-09-08T15:05:52.511Z"
   },
   {
    "duration": 12,
    "start_time": "2024-09-08T15:05:52.565Z"
   },
   {
    "duration": 14,
    "start_time": "2024-09-08T15:05:52.579Z"
   },
   {
    "duration": 22,
    "start_time": "2024-09-08T15:05:52.595Z"
   },
   {
    "duration": 47,
    "start_time": "2024-09-08T15:05:52.620Z"
   },
   {
    "duration": 7667,
    "start_time": "2024-09-08T15:05:52.669Z"
   },
   {
    "duration": 3471,
    "start_time": "2024-09-08T15:06:00.338Z"
   },
   {
    "duration": 6,
    "start_time": "2024-09-08T15:06:03.811Z"
   },
   {
    "duration": 8,
    "start_time": "2024-09-08T15:06:03.820Z"
   },
   {
    "duration": 32,
    "start_time": "2024-09-08T15:06:03.833Z"
   },
   {
    "duration": 60,
    "start_time": "2024-09-08T15:06:03.868Z"
   },
   {
    "duration": 974,
    "start_time": "2024-09-08T15:06:03.931Z"
   },
   {
    "duration": 3,
    "start_time": "2024-09-08T15:06:04.907Z"
   },
   {
    "duration": 21,
    "start_time": "2024-09-08T15:06:04.911Z"
   },
   {
    "duration": 51,
    "start_time": "2024-09-08T15:06:04.934Z"
   },
   {
    "duration": 2649,
    "start_time": "2024-09-08T15:06:49.963Z"
   },
   {
    "duration": 1347,
    "start_time": "2024-09-08T15:06:52.614Z"
   },
   {
    "duration": 1078,
    "start_time": "2024-09-08T15:06:53.964Z"
   },
   {
    "duration": 13,
    "start_time": "2024-09-08T15:06:55.044Z"
   },
   {
    "duration": 45,
    "start_time": "2024-09-08T15:06:55.058Z"
   },
   {
    "duration": 10,
    "start_time": "2024-09-08T15:06:55.104Z"
   },
   {
    "duration": 16,
    "start_time": "2024-09-08T15:06:55.116Z"
   },
   {
    "duration": 61,
    "start_time": "2024-09-08T15:06:55.133Z"
   },
   {
    "duration": 230,
    "start_time": "2024-09-08T15:06:55.196Z"
   },
   {
    "duration": 7055,
    "start_time": "2024-09-08T15:06:55.429Z"
   },
   {
    "duration": 3693,
    "start_time": "2024-09-08T15:07:02.486Z"
   },
   {
    "duration": 7,
    "start_time": "2024-09-08T15:07:06.182Z"
   },
   {
    "duration": 84,
    "start_time": "2024-09-08T15:07:06.191Z"
   },
   {
    "duration": 16,
    "start_time": "2024-09-08T15:07:06.278Z"
   },
   {
    "duration": 45,
    "start_time": "2024-09-08T15:07:06.296Z"
   },
   {
    "duration": 979,
    "start_time": "2024-09-08T15:07:06.343Z"
   },
   {
    "duration": 3,
    "start_time": "2024-09-08T15:07:07.324Z"
   },
   {
    "duration": 30,
    "start_time": "2024-09-08T15:07:07.329Z"
   },
   {
    "duration": 46,
    "start_time": "2024-09-08T15:07:07.360Z"
   },
   {
    "duration": 2728,
    "start_time": "2024-09-08T15:07:31.617Z"
   },
   {
    "duration": 1405,
    "start_time": "2024-09-08T15:07:34.348Z"
   },
   {
    "duration": 1039,
    "start_time": "2024-09-08T15:07:35.755Z"
   },
   {
    "duration": 14,
    "start_time": "2024-09-08T15:07:36.796Z"
   },
   {
    "duration": 36,
    "start_time": "2024-09-08T15:07:36.813Z"
   },
   {
    "duration": 18,
    "start_time": "2024-09-08T15:07:36.865Z"
   },
   {
    "duration": 8,
    "start_time": "2024-09-08T15:07:36.886Z"
   },
   {
    "duration": 17,
    "start_time": "2024-09-08T15:07:36.896Z"
   },
   {
    "duration": 136,
    "start_time": "2024-09-08T15:07:36.915Z"
   },
   {
    "duration": 7077,
    "start_time": "2024-09-08T15:07:37.052Z"
   },
   {
    "duration": 3723,
    "start_time": "2024-09-08T15:07:44.131Z"
   },
   {
    "duration": 11,
    "start_time": "2024-09-08T15:07:47.856Z"
   },
   {
    "duration": 19,
    "start_time": "2024-09-08T15:07:47.869Z"
   },
   {
    "duration": 15,
    "start_time": "2024-09-08T15:07:47.892Z"
   },
   {
    "duration": 59,
    "start_time": "2024-09-08T15:07:47.910Z"
   },
   {
    "duration": 1082,
    "start_time": "2024-09-08T15:07:47.971Z"
   },
   {
    "duration": 2,
    "start_time": "2024-09-08T15:07:49.056Z"
   },
   {
    "duration": 8,
    "start_time": "2024-09-08T15:07:49.079Z"
   },
   {
    "duration": 70,
    "start_time": "2024-09-08T15:07:49.089Z"
   },
   {
    "duration": 2699,
    "start_time": "2024-09-08T15:08:14.709Z"
   },
   {
    "duration": 1328,
    "start_time": "2024-09-08T15:08:17.410Z"
   },
   {
    "duration": 1084,
    "start_time": "2024-09-08T15:08:18.739Z"
   },
   {
    "duration": 16,
    "start_time": "2024-09-08T15:08:19.826Z"
   },
   {
    "duration": 52,
    "start_time": "2024-09-08T15:08:19.843Z"
   },
   {
    "duration": 15,
    "start_time": "2024-09-08T15:08:19.897Z"
   },
   {
    "duration": 8,
    "start_time": "2024-09-08T15:08:19.914Z"
   },
   {
    "duration": 41,
    "start_time": "2024-09-08T15:08:19.924Z"
   },
   {
    "duration": 180,
    "start_time": "2024-09-08T15:08:19.968Z"
   },
   {
    "duration": 6958,
    "start_time": "2024-09-08T15:08:20.151Z"
   },
   {
    "duration": 2026,
    "start_time": "2024-09-08T15:08:27.111Z"
   },
   {
    "duration": 4,
    "start_time": "2024-09-08T15:08:29.139Z"
   },
   {
    "duration": 10,
    "start_time": "2024-09-08T15:08:29.145Z"
   },
   {
    "duration": 57,
    "start_time": "2024-09-08T15:08:29.164Z"
   },
   {
    "duration": 44,
    "start_time": "2024-09-08T15:08:29.223Z"
   },
   {
    "duration": 1016,
    "start_time": "2024-09-08T15:08:29.269Z"
   },
   {
    "duration": 4,
    "start_time": "2024-09-08T15:08:30.287Z"
   },
   {
    "duration": 54,
    "start_time": "2024-09-08T15:08:30.293Z"
   },
   {
    "duration": 86,
    "start_time": "2024-09-08T15:08:30.349Z"
   },
   {
    "duration": 2673,
    "start_time": "2024-09-08T15:09:04.018Z"
   },
   {
    "duration": 1390,
    "start_time": "2024-09-08T15:09:06.693Z"
   },
   {
    "duration": 1050,
    "start_time": "2024-09-08T15:09:08.085Z"
   },
   {
    "duration": 14,
    "start_time": "2024-09-08T15:09:09.138Z"
   },
   {
    "duration": 59,
    "start_time": "2024-09-08T15:09:09.154Z"
   },
   {
    "duration": 51,
    "start_time": "2024-09-08T15:09:09.215Z"
   },
   {
    "duration": 15,
    "start_time": "2024-09-08T15:09:09.269Z"
   },
   {
    "duration": 18,
    "start_time": "2024-09-08T15:09:09.286Z"
   },
   {
    "duration": 223,
    "start_time": "2024-09-08T15:09:09.306Z"
   },
   {
    "duration": 7353,
    "start_time": "2024-09-08T15:09:09.532Z"
   },
   {
    "duration": 133,
    "start_time": "2024-09-08T15:09:16.888Z"
   },
   {
    "duration": 0,
    "start_time": "2024-09-08T15:09:17.023Z"
   },
   {
    "duration": 0,
    "start_time": "2024-09-08T15:09:17.024Z"
   },
   {
    "duration": 0,
    "start_time": "2024-09-08T15:09:17.026Z"
   },
   {
    "duration": 0,
    "start_time": "2024-09-08T15:09:17.027Z"
   },
   {
    "duration": 0,
    "start_time": "2024-09-08T15:09:17.028Z"
   },
   {
    "duration": 0,
    "start_time": "2024-09-08T15:09:17.029Z"
   },
   {
    "duration": 0,
    "start_time": "2024-09-08T15:09:17.031Z"
   },
   {
    "duration": 0,
    "start_time": "2024-09-08T15:09:17.032Z"
   },
   {
    "duration": 2615,
    "start_time": "2024-09-08T15:09:56.165Z"
   },
   {
    "duration": 11,
    "start_time": "2024-09-08T15:09:58.782Z"
   },
   {
    "duration": 942,
    "start_time": "2024-09-08T15:09:58.794Z"
   },
   {
    "duration": 9,
    "start_time": "2024-09-08T15:09:59.738Z"
   },
   {
    "duration": 53,
    "start_time": "2024-09-08T15:09:59.750Z"
   },
   {
    "duration": 11,
    "start_time": "2024-09-08T15:09:59.805Z"
   },
   {
    "duration": 6,
    "start_time": "2024-09-08T15:09:59.818Z"
   },
   {
    "duration": 39,
    "start_time": "2024-09-08T15:09:59.826Z"
   },
   {
    "duration": 25,
    "start_time": "2024-09-08T15:09:59.867Z"
   },
   {
    "duration": 7146,
    "start_time": "2024-09-08T15:09:59.894Z"
   },
   {
    "duration": 2017,
    "start_time": "2024-09-08T15:10:07.041Z"
   },
   {
    "duration": 3,
    "start_time": "2024-09-08T15:10:09.060Z"
   },
   {
    "duration": 35,
    "start_time": "2024-09-08T15:10:09.066Z"
   },
   {
    "duration": 22,
    "start_time": "2024-09-08T15:10:09.104Z"
   },
   {
    "duration": 41,
    "start_time": "2024-09-08T15:10:09.128Z"
   },
   {
    "duration": 1067,
    "start_time": "2024-09-08T15:10:09.172Z"
   },
   {
    "duration": 3,
    "start_time": "2024-09-08T15:10:10.240Z"
   },
   {
    "duration": 41,
    "start_time": "2024-09-08T15:10:10.244Z"
   },
   {
    "duration": 90,
    "start_time": "2024-09-08T15:10:10.287Z"
   },
   {
    "duration": 2685,
    "start_time": "2024-09-08T15:10:56.327Z"
   },
   {
    "duration": 1381,
    "start_time": "2024-09-08T15:10:59.014Z"
   },
   {
    "duration": 1037,
    "start_time": "2024-09-08T15:11:00.397Z"
   },
   {
    "duration": 14,
    "start_time": "2024-09-08T15:11:01.436Z"
   },
   {
    "duration": 54,
    "start_time": "2024-09-08T15:11:01.453Z"
   },
   {
    "duration": 26,
    "start_time": "2024-09-08T15:11:01.509Z"
   },
   {
    "duration": 256,
    "start_time": "2024-09-08T15:11:01.537Z"
   },
   {
    "duration": 5,
    "start_time": "2024-09-08T15:11:01.795Z"
   },
   {
    "duration": 34,
    "start_time": "2024-09-08T15:11:01.802Z"
   },
   {
    "duration": 144,
    "start_time": "2024-09-08T15:11:01.837Z"
   },
   {
    "duration": 6790,
    "start_time": "2024-09-08T15:11:01.983Z"
   },
   {
    "duration": 2054,
    "start_time": "2024-09-08T15:11:08.777Z"
   },
   {
    "duration": 4,
    "start_time": "2024-09-08T15:11:10.832Z"
   },
   {
    "duration": 22,
    "start_time": "2024-09-08T15:11:10.839Z"
   },
   {
    "duration": 23,
    "start_time": "2024-09-08T15:11:10.862Z"
   },
   {
    "duration": 32,
    "start_time": "2024-09-08T15:11:10.886Z"
   },
   {
    "duration": 1133,
    "start_time": "2024-09-08T15:11:10.920Z"
   },
   {
    "duration": 10,
    "start_time": "2024-09-08T15:11:12.055Z"
   },
   {
    "duration": 29,
    "start_time": "2024-09-08T15:11:12.067Z"
   },
   {
    "duration": 29,
    "start_time": "2024-09-08T15:11:12.098Z"
   },
   {
    "duration": 182039,
    "start_time": "2024-09-08T15:11:18.481Z"
   },
   {
    "duration": 33,
    "start_time": "2024-09-08T15:14:20.524Z"
   },
   {
    "duration": 2775,
    "start_time": "2024-09-08T15:20:01.437Z"
   },
   {
    "duration": 1368,
    "start_time": "2024-09-08T15:20:04.215Z"
   },
   {
    "duration": 1090,
    "start_time": "2024-09-08T15:20:05.585Z"
   },
   {
    "duration": 16,
    "start_time": "2024-09-08T15:20:06.677Z"
   },
   {
    "duration": 33,
    "start_time": "2024-09-08T15:20:06.696Z"
   },
   {
    "duration": 38,
    "start_time": "2024-09-08T15:20:06.731Z"
   },
   {
    "duration": 11,
    "start_time": "2024-09-08T15:20:06.771Z"
   },
   {
    "duration": 18,
    "start_time": "2024-09-08T15:20:06.784Z"
   },
   {
    "duration": 234,
    "start_time": "2024-09-08T15:20:06.804Z"
   },
   {
    "duration": 7280,
    "start_time": "2024-09-08T15:20:07.040Z"
   },
   {
    "duration": 2099,
    "start_time": "2024-09-08T15:20:14.322Z"
   },
   {
    "duration": 4,
    "start_time": "2024-09-08T15:20:16.423Z"
   },
   {
    "duration": 32,
    "start_time": "2024-09-08T15:20:16.429Z"
   },
   {
    "duration": 10,
    "start_time": "2024-09-08T15:20:16.465Z"
   },
   {
    "duration": 44,
    "start_time": "2024-09-08T15:20:16.478Z"
   },
   {
    "duration": 161,
    "start_time": "2024-09-08T15:20:16.524Z"
   },
   {
    "duration": 0,
    "start_time": "2024-09-08T15:20:16.687Z"
   },
   {
    "duration": 0,
    "start_time": "2024-09-08T15:20:16.689Z"
   },
   {
    "duration": 0,
    "start_time": "2024-09-08T15:20:16.691Z"
   },
   {
    "duration": 2939,
    "start_time": "2024-09-08T15:21:36.866Z"
   },
   {
    "duration": 1423,
    "start_time": "2024-09-08T15:21:39.807Z"
   },
   {
    "duration": 1092,
    "start_time": "2024-09-08T15:21:41.232Z"
   },
   {
    "duration": 14,
    "start_time": "2024-09-08T15:21:42.326Z"
   },
   {
    "duration": 61,
    "start_time": "2024-09-08T15:21:42.342Z"
   },
   {
    "duration": 15,
    "start_time": "2024-09-08T15:21:42.411Z"
   },
   {
    "duration": 11,
    "start_time": "2024-09-08T15:21:42.428Z"
   },
   {
    "duration": 12,
    "start_time": "2024-09-08T15:21:42.441Z"
   },
   {
    "duration": 162,
    "start_time": "2024-09-08T15:21:42.454Z"
   },
   {
    "duration": 7136,
    "start_time": "2024-09-08T15:21:42.618Z"
   },
   {
    "duration": 2179,
    "start_time": "2024-09-08T15:21:49.756Z"
   },
   {
    "duration": 4,
    "start_time": "2024-09-08T15:21:51.937Z"
   },
   {
    "duration": 45,
    "start_time": "2024-09-08T15:21:51.942Z"
   },
   {
    "duration": 12,
    "start_time": "2024-09-08T15:21:51.991Z"
   },
   {
    "duration": 43,
    "start_time": "2024-09-08T15:21:52.005Z"
   },
   {
    "duration": 4,
    "start_time": "2024-09-08T15:21:52.049Z"
   },
   {
    "duration": 19,
    "start_time": "2024-09-08T15:21:52.055Z"
   },
   {
    "duration": 79,
    "start_time": "2024-09-08T15:21:52.076Z"
   },
   {
    "duration": 2702,
    "start_time": "2024-09-08T15:24:30.555Z"
   },
   {
    "duration": 1422,
    "start_time": "2024-09-08T15:24:33.259Z"
   },
   {
    "duration": 1048,
    "start_time": "2024-09-08T15:24:34.683Z"
   },
   {
    "duration": 16,
    "start_time": "2024-09-08T15:24:35.733Z"
   },
   {
    "duration": 62,
    "start_time": "2024-09-08T15:24:35.752Z"
   },
   {
    "duration": 18,
    "start_time": "2024-09-08T15:24:35.816Z"
   },
   {
    "duration": 57,
    "start_time": "2024-09-08T15:24:35.836Z"
   },
   {
    "duration": 37,
    "start_time": "2024-09-08T15:24:35.895Z"
   },
   {
    "duration": 135,
    "start_time": "2024-09-08T15:24:35.933Z"
   },
   {
    "duration": 7041,
    "start_time": "2024-09-08T15:24:36.071Z"
   },
   {
    "duration": 2037,
    "start_time": "2024-09-08T15:24:43.114Z"
   },
   {
    "duration": 4,
    "start_time": "2024-09-08T15:24:45.153Z"
   },
   {
    "duration": 36,
    "start_time": "2024-09-08T15:24:45.164Z"
   },
   {
    "duration": 60,
    "start_time": "2024-09-08T15:24:45.202Z"
   },
   {
    "duration": 53,
    "start_time": "2024-09-08T15:24:45.264Z"
   },
   {
    "duration": 1053,
    "start_time": "2024-09-08T15:24:45.319Z"
   },
   {
    "duration": 3,
    "start_time": "2024-09-08T15:24:46.374Z"
   },
   {
    "duration": 12,
    "start_time": "2024-09-08T15:24:46.379Z"
   },
   {
    "duration": 46,
    "start_time": "2024-09-08T15:24:46.393Z"
   },
   {
    "duration": 8,
    "start_time": "2024-09-08T15:25:06.453Z"
   },
   {
    "duration": 41,
    "start_time": "2024-09-08T15:25:07.771Z"
   },
   {
    "duration": 190378,
    "start_time": "2024-09-08T15:25:22.832Z"
   },
   {
    "duration": 24,
    "start_time": "2024-09-08T15:28:33.212Z"
   },
   {
    "duration": 62,
    "start_time": "2024-09-08T15:28:33.237Z"
   },
   {
    "duration": 2645,
    "start_time": "2024-09-08T15:35:37.104Z"
   },
   {
    "duration": 1383,
    "start_time": "2024-09-08T15:35:39.752Z"
   },
   {
    "duration": 1011,
    "start_time": "2024-09-08T15:35:41.137Z"
   },
   {
    "duration": 28,
    "start_time": "2024-09-08T15:35:42.150Z"
   },
   {
    "duration": 39,
    "start_time": "2024-09-08T15:35:42.180Z"
   },
   {
    "duration": 23,
    "start_time": "2024-09-08T15:35:42.220Z"
   },
   {
    "duration": 16,
    "start_time": "2024-09-08T15:35:42.244Z"
   },
   {
    "duration": 24,
    "start_time": "2024-09-08T15:35:42.261Z"
   },
   {
    "duration": 186,
    "start_time": "2024-09-08T15:35:42.286Z"
   },
   {
    "duration": 6341,
    "start_time": "2024-09-08T15:35:42.479Z"
   },
   {
    "duration": 1910,
    "start_time": "2024-09-08T15:35:48.822Z"
   },
   {
    "duration": 6,
    "start_time": "2024-09-08T15:35:50.734Z"
   },
   {
    "duration": 23,
    "start_time": "2024-09-08T15:35:50.742Z"
   },
   {
    "duration": 9,
    "start_time": "2024-09-08T15:35:50.767Z"
   },
   {
    "duration": 38,
    "start_time": "2024-09-08T15:35:50.777Z"
   },
   {
    "duration": 148,
    "start_time": "2024-09-08T15:35:50.817Z"
   },
   {
    "duration": 2594,
    "start_time": "2024-09-08T15:37:05.714Z"
   },
   {
    "duration": 1317,
    "start_time": "2024-09-08T15:37:08.309Z"
   },
   {
    "duration": 1011,
    "start_time": "2024-09-08T15:37:09.628Z"
   },
   {
    "duration": 14,
    "start_time": "2024-09-08T15:37:10.641Z"
   },
   {
    "duration": 36,
    "start_time": "2024-09-08T15:37:10.664Z"
   },
   {
    "duration": 12,
    "start_time": "2024-09-08T15:37:10.702Z"
   },
   {
    "duration": 12,
    "start_time": "2024-09-08T15:37:10.716Z"
   },
   {
    "duration": 39,
    "start_time": "2024-09-08T15:37:10.730Z"
   },
   {
    "duration": 218,
    "start_time": "2024-09-08T15:37:10.771Z"
   },
   {
    "duration": 6361,
    "start_time": "2024-09-08T15:37:10.990Z"
   },
   {
    "duration": 1816,
    "start_time": "2024-09-08T15:37:17.353Z"
   },
   {
    "duration": 4,
    "start_time": "2024-09-08T15:37:19.171Z"
   },
   {
    "duration": 17,
    "start_time": "2024-09-08T15:37:19.176Z"
   },
   {
    "duration": 7,
    "start_time": "2024-09-08T15:37:19.195Z"
   },
   {
    "duration": 32,
    "start_time": "2024-09-08T15:37:19.204Z"
   },
   {
    "duration": 1010,
    "start_time": "2024-09-08T15:37:19.237Z"
   },
   {
    "duration": 3,
    "start_time": "2024-09-08T15:37:20.249Z"
   },
   {
    "duration": 21,
    "start_time": "2024-09-08T15:37:20.254Z"
   },
   {
    "duration": 43,
    "start_time": "2024-09-08T15:37:20.278Z"
   },
   {
    "duration": 12482,
    "start_time": "2024-09-08T15:37:20.322Z"
   },
   {
    "duration": 7329,
    "start_time": "2024-09-08T17:15:19.353Z"
   },
   {
    "duration": 1240,
    "start_time": "2024-09-08T17:15:26.684Z"
   },
   {
    "duration": 1291,
    "start_time": "2024-09-08T17:15:27.933Z"
   },
   {
    "duration": 14,
    "start_time": "2024-09-08T17:15:29.226Z"
   },
   {
    "duration": 48,
    "start_time": "2024-09-08T17:15:29.242Z"
   },
   {
    "duration": 8,
    "start_time": "2024-09-08T17:15:29.291Z"
   },
   {
    "duration": 21,
    "start_time": "2024-09-08T17:15:29.300Z"
   },
   {
    "duration": 34,
    "start_time": "2024-09-08T17:15:29.322Z"
   },
   {
    "duration": 135,
    "start_time": "2024-09-08T17:15:29.358Z"
   },
   {
    "duration": 6290,
    "start_time": "2024-09-08T17:15:29.494Z"
   },
   {
    "duration": 1465,
    "start_time": "2024-09-08T17:15:35.786Z"
   },
   {
    "duration": 6,
    "start_time": "2024-09-08T17:15:37.252Z"
   },
   {
    "duration": 18,
    "start_time": "2024-09-08T17:15:37.259Z"
   },
   {
    "duration": 9,
    "start_time": "2024-09-08T17:15:37.279Z"
   },
   {
    "duration": 42,
    "start_time": "2024-09-08T17:15:37.289Z"
   },
   {
    "duration": 927,
    "start_time": "2024-09-08T17:15:37.333Z"
   },
   {
    "duration": 3,
    "start_time": "2024-09-08T17:15:38.261Z"
   },
   {
    "duration": 8,
    "start_time": "2024-09-08T17:15:38.265Z"
   },
   {
    "duration": 55,
    "start_time": "2024-09-08T17:15:38.274Z"
   },
   {
    "duration": 11812,
    "start_time": "2024-09-08T17:15:38.330Z"
   },
   {
    "duration": 169048,
    "start_time": "2024-09-08T17:15:50.144Z"
   },
   {
    "duration": 34,
    "start_time": "2024-09-08T17:18:39.193Z"
   },
   {
    "duration": 4,
    "start_time": "2024-09-08T17:18:39.229Z"
   },
   {
    "duration": 7594,
    "start_time": "2024-09-14T18:02:44.899Z"
   },
   {
    "duration": 1375,
    "start_time": "2024-09-14T18:02:52.496Z"
   },
   {
    "duration": 1362,
    "start_time": "2024-09-14T18:02:53.873Z"
   },
   {
    "duration": 15,
    "start_time": "2024-09-14T18:02:55.236Z"
   },
   {
    "duration": 34,
    "start_time": "2024-09-14T18:02:55.253Z"
   },
   {
    "duration": 17,
    "start_time": "2024-09-14T18:02:55.289Z"
   },
   {
    "duration": 6,
    "start_time": "2024-09-14T18:02:55.307Z"
   },
   {
    "duration": 14,
    "start_time": "2024-09-14T18:02:55.314Z"
   },
   {
    "duration": 216,
    "start_time": "2024-09-14T18:02:55.329Z"
   },
   {
    "duration": 126,
    "start_time": "2024-09-14T18:02:55.547Z"
   },
   {
    "duration": 0,
    "start_time": "2024-09-14T18:02:55.675Z"
   },
   {
    "duration": 0,
    "start_time": "2024-09-14T18:02:55.676Z"
   },
   {
    "duration": 0,
    "start_time": "2024-09-14T18:02:55.677Z"
   },
   {
    "duration": 0,
    "start_time": "2024-09-14T18:02:55.678Z"
   },
   {
    "duration": 0,
    "start_time": "2024-09-14T18:02:55.679Z"
   },
   {
    "duration": 0,
    "start_time": "2024-09-14T18:02:55.680Z"
   },
   {
    "duration": 0,
    "start_time": "2024-09-14T18:02:55.681Z"
   },
   {
    "duration": 0,
    "start_time": "2024-09-14T18:02:55.682Z"
   },
   {
    "duration": 0,
    "start_time": "2024-09-14T18:02:55.683Z"
   },
   {
    "duration": 0,
    "start_time": "2024-09-14T18:02:55.684Z"
   },
   {
    "duration": 0,
    "start_time": "2024-09-14T18:02:55.685Z"
   },
   {
    "duration": 0,
    "start_time": "2024-09-14T18:02:55.686Z"
   },
   {
    "duration": 0,
    "start_time": "2024-09-14T18:02:55.705Z"
   },
   {
    "duration": 0,
    "start_time": "2024-09-14T18:02:55.706Z"
   },
   {
    "duration": 0,
    "start_time": "2024-09-14T18:02:55.707Z"
   },
   {
    "duration": 0,
    "start_time": "2024-09-14T18:02:55.708Z"
   },
   {
    "duration": 0,
    "start_time": "2024-09-14T18:02:55.709Z"
   },
   {
    "duration": 0,
    "start_time": "2024-09-14T18:02:55.710Z"
   },
   {
    "duration": 0,
    "start_time": "2024-09-14T18:02:55.711Z"
   },
   {
    "duration": 0,
    "start_time": "2024-09-14T18:02:55.713Z"
   },
   {
    "duration": 0,
    "start_time": "2024-09-14T18:02:55.714Z"
   },
   {
    "duration": 4,
    "start_time": "2024-09-14T18:03:37.089Z"
   },
   {
    "duration": 2596,
    "start_time": "2024-09-14T18:03:41.866Z"
   },
   {
    "duration": 4,
    "start_time": "2024-09-14T18:03:44.465Z"
   },
   {
    "duration": 1058,
    "start_time": "2024-09-14T18:03:44.471Z"
   },
   {
    "duration": 8,
    "start_time": "2024-09-14T18:03:45.531Z"
   },
   {
    "duration": 52,
    "start_time": "2024-09-14T18:03:45.540Z"
   },
   {
    "duration": 17,
    "start_time": "2024-09-14T18:03:45.594Z"
   },
   {
    "duration": 21,
    "start_time": "2024-09-14T18:03:45.613Z"
   },
   {
    "duration": 19,
    "start_time": "2024-09-14T18:03:45.636Z"
   },
   {
    "duration": 4,
    "start_time": "2024-09-14T18:03:45.657Z"
   },
   {
    "duration": 3386,
    "start_time": "2024-09-14T18:03:45.664Z"
   },
   {
    "duration": 2,
    "start_time": "2024-09-14T18:03:49.052Z"
   },
   {
    "duration": 20,
    "start_time": "2024-09-14T18:03:49.056Z"
   },
   {
    "duration": 4,
    "start_time": "2024-09-14T18:03:49.078Z"
   },
   {
    "duration": 1634,
    "start_time": "2024-09-14T18:03:49.084Z"
   },
   {
    "duration": 7,
    "start_time": "2024-09-14T18:03:50.720Z"
   },
   {
    "duration": 43,
    "start_time": "2024-09-14T18:03:50.729Z"
   },
   {
    "duration": 33,
    "start_time": "2024-09-14T18:03:50.774Z"
   },
   {
    "duration": 27,
    "start_time": "2024-09-14T18:03:50.809Z"
   },
   {
    "duration": 4,
    "start_time": "2024-09-14T18:03:50.838Z"
   },
   {
    "duration": 5,
    "start_time": "2024-09-14T18:03:50.844Z"
   },
   {
    "duration": 407,
    "start_time": "2024-09-14T18:03:50.850Z"
   },
   {
    "duration": 4,
    "start_time": "2024-09-14T18:03:51.259Z"
   },
   {
    "duration": 28,
    "start_time": "2024-09-14T18:03:51.265Z"
   },
   {
    "duration": 39,
    "start_time": "2024-09-14T18:03:51.295Z"
   },
   {
    "duration": 46,
    "start_time": "2024-09-14T18:03:51.336Z"
   },
   {
    "duration": 5,
    "start_time": "2024-09-14T18:03:51.385Z"
   },
   {
    "duration": 3325,
    "start_time": "2024-09-14T18:03:51.392Z"
   },
   {
    "duration": 4,
    "start_time": "2024-09-14T18:03:54.722Z"
   },
   {
    "duration": 44,
    "start_time": "2024-09-14T18:03:54.728Z"
   },
   {
    "duration": 53378,
    "start_time": "2024-09-14T18:03:54.773Z"
   },
   {
    "duration": 5,
    "start_time": "2024-09-14T18:04:48.152Z"
   },
   {
    "duration": 7453,
    "start_time": "2024-09-15T12:29:58.800Z"
   },
   {
    "duration": 1339,
    "start_time": "2024-09-15T12:30:06.255Z"
   },
   {
    "duration": 1364,
    "start_time": "2024-09-15T12:30:07.596Z"
   },
   {
    "duration": 15,
    "start_time": "2024-09-15T12:30:08.961Z"
   },
   {
    "duration": 82,
    "start_time": "2024-09-15T12:30:08.978Z"
   },
   {
    "duration": 45,
    "start_time": "2024-09-15T12:30:09.062Z"
   },
   {
    "duration": 16,
    "start_time": "2024-09-15T12:30:09.109Z"
   },
   {
    "duration": 15,
    "start_time": "2024-09-15T12:30:09.127Z"
   },
   {
    "duration": 261,
    "start_time": "2024-09-15T12:30:09.144Z"
   },
   {
    "duration": 0,
    "start_time": "2024-09-15T12:30:09.407Z"
   },
   {
    "duration": 0,
    "start_time": "2024-09-15T12:30:09.407Z"
   },
   {
    "duration": 0,
    "start_time": "2024-09-15T12:30:09.409Z"
   },
   {
    "duration": 0,
    "start_time": "2024-09-15T12:30:09.409Z"
   },
   {
    "duration": 0,
    "start_time": "2024-09-15T12:30:09.411Z"
   },
   {
    "duration": 456,
    "start_time": "2024-09-15T12:31:08.086Z"
   },
   {
    "duration": 5,
    "start_time": "2024-09-15T12:31:09.951Z"
   },
   {
    "duration": 3,
    "start_time": "2024-09-15T12:31:11.868Z"
   },
   {
    "duration": 96,
    "start_time": "2024-09-15T12:31:13.285Z"
   },
   {
    "duration": 4,
    "start_time": "2024-09-15T12:31:43.168Z"
   },
   {
    "duration": 280,
    "start_time": "2024-09-15T12:31:44.830Z"
   },
   {
    "duration": 6,
    "start_time": "2024-09-15T12:32:37.522Z"
   },
   {
    "duration": 302,
    "start_time": "2024-09-15T12:32:44.217Z"
   },
   {
    "duration": 4,
    "start_time": "2024-09-15T12:33:03.286Z"
   },
   {
    "duration": 377,
    "start_time": "2024-09-15T12:33:13.495Z"
   },
   {
    "duration": 4,
    "start_time": "2024-09-15T12:33:47.445Z"
   },
   {
    "duration": 82152,
    "start_time": "2024-09-15T12:33:53.603Z"
   },
   {
    "duration": 1623,
    "start_time": "2024-09-15T12:39:10.992Z"
   },
   {
    "duration": 8,
    "start_time": "2024-09-15T12:39:22.844Z"
   },
   {
    "duration": 30,
    "start_time": "2024-09-15T12:39:39.139Z"
   },
   {
    "duration": 354,
    "start_time": "2024-09-15T12:39:47.959Z"
   },
   {
    "duration": 2,
    "start_time": "2024-09-15T12:40:24.002Z"
   },
   {
    "duration": 8,
    "start_time": "2024-09-15T12:40:27.512Z"
   },
   {
    "duration": 30,
    "start_time": "2024-09-15T12:40:40.292Z"
   },
   {
    "duration": 3249,
    "start_time": "2024-09-15T12:41:02.944Z"
   },
   {
    "duration": 51633,
    "start_time": "2024-09-15T12:41:11.718Z"
   },
   {
    "duration": 4,
    "start_time": "2024-09-15T12:42:18.298Z"
   },
   {
    "duration": 364,
    "start_time": "2024-09-15T12:44:07.411Z"
   },
   {
    "duration": 4,
    "start_time": "2024-09-15T12:59:28.361Z"
   },
   {
    "duration": 2552,
    "start_time": "2024-09-15T13:01:26.158Z"
   },
   {
    "duration": 1371,
    "start_time": "2024-09-15T13:01:28.713Z"
   },
   {
    "duration": 984,
    "start_time": "2024-09-15T13:01:30.085Z"
   },
   {
    "duration": 15,
    "start_time": "2024-09-15T13:01:31.071Z"
   },
   {
    "duration": 43,
    "start_time": "2024-09-15T13:01:31.088Z"
   },
   {
    "duration": 19,
    "start_time": "2024-09-15T13:01:31.133Z"
   },
   {
    "duration": 31,
    "start_time": "2024-09-15T13:01:31.153Z"
   },
   {
    "duration": 24,
    "start_time": "2024-09-15T13:01:31.186Z"
   },
   {
    "duration": 208,
    "start_time": "2024-09-15T13:01:31.211Z"
   },
   {
    "duration": 4,
    "start_time": "2024-09-15T13:01:31.420Z"
   },
   {
    "duration": 39,
    "start_time": "2024-09-15T13:01:31.425Z"
   },
   {
    "duration": 82088,
    "start_time": "2024-09-15T13:01:31.466Z"
   },
   {
    "duration": 1625,
    "start_time": "2024-09-15T13:02:53.556Z"
   },
   {
    "duration": 7,
    "start_time": "2024-09-15T13:02:55.184Z"
   },
   {
    "duration": 36,
    "start_time": "2024-09-15T13:02:55.193Z"
   },
   {
    "duration": 4,
    "start_time": "2024-09-15T13:02:55.230Z"
   },
   {
    "duration": 6,
    "start_time": "2024-09-15T13:02:55.236Z"
   },
   {
    "duration": 837,
    "start_time": "2024-09-15T13:02:58.589Z"
   },
   {
    "duration": 3,
    "start_time": "2024-09-15T13:08:49.479Z"
   },
   {
    "duration": 794,
    "start_time": "2024-09-15T13:08:50.345Z"
   },
   {
    "duration": 1503,
    "start_time": "2024-09-15T13:09:24.690Z"
   },
   {
    "duration": 2,
    "start_time": "2024-09-15T13:09:27.186Z"
   },
   {
    "duration": 2,
    "start_time": "2024-09-15T13:09:27.512Z"
   },
   {
    "duration": 4,
    "start_time": "2024-09-15T13:09:27.836Z"
   },
   {
    "duration": 3,
    "start_time": "2024-09-15T13:09:30.066Z"
   },
   {
    "duration": 809,
    "start_time": "2024-09-15T13:09:30.569Z"
   },
   {
    "duration": 3,
    "start_time": "2024-09-15T13:09:44.860Z"
   },
   {
    "duration": 800,
    "start_time": "2024-09-15T13:09:45.491Z"
   },
   {
    "duration": 608,
    "start_time": "2024-09-15T13:09:58.263Z"
   },
   {
    "duration": 7,
    "start_time": "2024-09-15T13:10:18.559Z"
   },
   {
    "duration": 2,
    "start_time": "2024-09-15T13:10:19.411Z"
   },
   {
    "duration": 3,
    "start_time": "2024-09-15T13:10:19.685Z"
   },
   {
    "duration": 3,
    "start_time": "2024-09-15T13:10:20.175Z"
   },
   {
    "duration": 793,
    "start_time": "2024-09-15T13:10:21.258Z"
   },
   {
    "duration": 2560,
    "start_time": "2024-09-15T13:11:04.722Z"
   },
   {
    "duration": 1399,
    "start_time": "2024-09-15T13:11:07.284Z"
   },
   {
    "duration": 979,
    "start_time": "2024-09-15T13:11:08.684Z"
   },
   {
    "duration": 14,
    "start_time": "2024-09-15T13:11:09.664Z"
   },
   {
    "duration": 40,
    "start_time": "2024-09-15T13:11:09.680Z"
   },
   {
    "duration": 12,
    "start_time": "2024-09-15T13:11:09.723Z"
   },
   {
    "duration": 7,
    "start_time": "2024-09-15T13:11:09.736Z"
   },
   {
    "duration": 12,
    "start_time": "2024-09-15T13:11:09.745Z"
   },
   {
    "duration": 232,
    "start_time": "2024-09-15T13:11:09.759Z"
   },
   {
    "duration": 4,
    "start_time": "2024-09-15T13:11:09.993Z"
   },
   {
    "duration": 34,
    "start_time": "2024-09-15T13:11:09.999Z"
   },
   {
    "duration": 82022,
    "start_time": "2024-09-15T13:11:10.035Z"
   },
   {
    "duration": 1489,
    "start_time": "2024-09-15T13:12:32.060Z"
   },
   {
    "duration": 7,
    "start_time": "2024-09-15T13:12:33.551Z"
   },
   {
    "duration": 64,
    "start_time": "2024-09-15T13:12:33.560Z"
   },
   {
    "duration": 370,
    "start_time": "2024-09-15T13:12:33.625Z"
   },
   {
    "duration": 3,
    "start_time": "2024-09-15T13:12:56.600Z"
   },
   {
    "duration": 3,
    "start_time": "2024-09-15T13:12:57.567Z"
   },
   {
    "duration": 8,
    "start_time": "2024-09-15T13:12:58.170Z"
   },
   {
    "duration": 2610,
    "start_time": "2024-09-15T13:13:42.944Z"
   },
   {
    "duration": 1332,
    "start_time": "2024-09-15T13:13:45.557Z"
   },
   {
    "duration": 1004,
    "start_time": "2024-09-15T13:13:46.890Z"
   },
   {
    "duration": 14,
    "start_time": "2024-09-15T13:13:47.895Z"
   },
   {
    "duration": 32,
    "start_time": "2024-09-15T13:13:47.921Z"
   },
   {
    "duration": 9,
    "start_time": "2024-09-15T13:13:47.954Z"
   },
   {
    "duration": 10,
    "start_time": "2024-09-15T13:13:47.965Z"
   },
   {
    "duration": 11,
    "start_time": "2024-09-15T13:13:47.977Z"
   },
   {
    "duration": 255,
    "start_time": "2024-09-15T13:13:47.989Z"
   },
   {
    "duration": 5,
    "start_time": "2024-09-15T13:13:48.246Z"
   },
   {
    "duration": 5,
    "start_time": "2024-09-15T13:13:48.252Z"
   },
   {
    "duration": 82560,
    "start_time": "2024-09-15T13:13:48.259Z"
   },
   {
    "duration": 1527,
    "start_time": "2024-09-15T13:15:10.821Z"
   },
   {
    "duration": 7,
    "start_time": "2024-09-15T13:15:12.350Z"
   },
   {
    "duration": 5,
    "start_time": "2024-09-15T13:15:12.358Z"
   },
   {
    "duration": 334,
    "start_time": "2024-09-15T13:15:12.365Z"
   },
   {
    "duration": 2,
    "start_time": "2024-09-15T13:15:22.324Z"
   },
   {
    "duration": 4,
    "start_time": "2024-09-15T13:15:22.838Z"
   },
   {
    "duration": 7,
    "start_time": "2024-09-15T13:15:23.705Z"
   },
   {
    "duration": 2533,
    "start_time": "2024-09-15T13:15:53.593Z"
   },
   {
    "duration": 1339,
    "start_time": "2024-09-15T13:15:56.129Z"
   },
   {
    "duration": 990,
    "start_time": "2024-09-15T13:15:57.469Z"
   },
   {
    "duration": 16,
    "start_time": "2024-09-15T13:15:58.462Z"
   },
   {
    "duration": 48,
    "start_time": "2024-09-15T13:15:58.480Z"
   },
   {
    "duration": 10,
    "start_time": "2024-09-15T13:15:58.530Z"
   },
   {
    "duration": 6,
    "start_time": "2024-09-15T13:15:58.542Z"
   },
   {
    "duration": 13,
    "start_time": "2024-09-15T13:15:58.550Z"
   },
   {
    "duration": 148,
    "start_time": "2024-09-15T13:15:58.564Z"
   },
   {
    "duration": 5,
    "start_time": "2024-09-15T13:15:58.715Z"
   },
   {
    "duration": 15,
    "start_time": "2024-09-15T13:15:58.721Z"
   },
   {
    "duration": 82891,
    "start_time": "2024-09-15T13:15:58.738Z"
   },
   {
    "duration": 1481,
    "start_time": "2024-09-15T13:17:21.630Z"
   },
   {
    "duration": 8,
    "start_time": "2024-09-15T13:17:23.112Z"
   },
   {
    "duration": 16,
    "start_time": "2024-09-15T13:17:23.122Z"
   },
   {
    "duration": 132,
    "start_time": "2024-09-15T13:17:23.139Z"
   },
   {
    "duration": 0,
    "start_time": "2024-09-15T13:17:23.273Z"
   },
   {
    "duration": 0,
    "start_time": "2024-09-15T13:17:23.274Z"
   },
   {
    "duration": 0,
    "start_time": "2024-09-15T13:17:23.275Z"
   },
   {
    "duration": 0,
    "start_time": "2024-09-15T13:17:23.276Z"
   },
   {
    "duration": 0,
    "start_time": "2024-09-15T13:17:23.277Z"
   },
   {
    "duration": 68502,
    "start_time": "2024-09-15T13:18:17.478Z"
   },
   {
    "duration": 2,
    "start_time": "2024-09-15T13:19:31.439Z"
   },
   {
    "duration": 4,
    "start_time": "2024-09-15T13:19:32.412Z"
   },
   {
    "duration": 8,
    "start_time": "2024-09-15T13:19:33.064Z"
   },
   {
    "duration": 29,
    "start_time": "2024-09-15T13:19:52.401Z"
   },
   {
    "duration": 12,
    "start_time": "2024-09-15T13:22:39.949Z"
   },
   {
    "duration": 69717,
    "start_time": "2024-09-15T13:22:53.531Z"
   },
   {
    "duration": 11,
    "start_time": "2024-09-15T13:24:18.569Z"
   },
   {
    "duration": 111625,
    "start_time": "2024-09-15T13:24:31.724Z"
   },
   {
    "duration": 4,
    "start_time": "2024-09-15T13:26:46.676Z"
   },
   {
    "duration": 2513,
    "start_time": "2024-09-15T13:48:58.663Z"
   },
   {
    "duration": 1326,
    "start_time": "2024-09-15T13:49:01.179Z"
   },
   {
    "duration": 983,
    "start_time": "2024-09-15T13:49:02.507Z"
   },
   {
    "duration": 15,
    "start_time": "2024-09-15T13:49:03.492Z"
   },
   {
    "duration": 48,
    "start_time": "2024-09-15T13:49:03.509Z"
   },
   {
    "duration": 34,
    "start_time": "2024-09-15T13:49:03.559Z"
   },
   {
    "duration": 27,
    "start_time": "2024-09-15T13:49:03.595Z"
   },
   {
    "duration": 27,
    "start_time": "2024-09-15T13:49:03.624Z"
   },
   {
    "duration": 164,
    "start_time": "2024-09-15T13:49:03.653Z"
   },
   {
    "duration": 5,
    "start_time": "2024-09-15T13:49:03.820Z"
   },
   {
    "duration": 52,
    "start_time": "2024-09-15T13:49:03.827Z"
   },
   {
    "duration": 82853,
    "start_time": "2024-09-15T13:49:03.881Z"
   },
   {
    "duration": 7,
    "start_time": "2024-09-15T13:50:26.736Z"
   },
   {
    "duration": 1446,
    "start_time": "2024-09-15T13:50:26.745Z"
   },
   {
    "duration": 4,
    "start_time": "2024-09-15T13:50:28.192Z"
   },
   {
    "duration": 25,
    "start_time": "2024-09-15T13:50:28.198Z"
   },
   {
    "duration": 8,
    "start_time": "2024-09-15T13:50:28.224Z"
   },
   {
    "duration": 57257,
    "start_time": "2024-09-15T13:50:28.233Z"
   },
   {
    "duration": 4,
    "start_time": "2024-09-15T13:51:25.492Z"
   },
   {
    "duration": 155,
    "start_time": "2024-09-15T13:51:25.498Z"
   },
   {
    "duration": 0,
    "start_time": "2024-09-15T13:51:25.655Z"
   },
   {
    "duration": 0,
    "start_time": "2024-09-15T13:51:25.656Z"
   },
   {
    "duration": 0,
    "start_time": "2024-09-15T13:51:25.657Z"
   },
   {
    "duration": 0,
    "start_time": "2024-09-15T13:51:25.659Z"
   },
   {
    "duration": 0,
    "start_time": "2024-09-15T13:51:25.660Z"
   },
   {
    "duration": 0,
    "start_time": "2024-09-15T13:51:25.661Z"
   },
   {
    "duration": 0,
    "start_time": "2024-09-15T13:51:25.663Z"
   },
   {
    "duration": 0,
    "start_time": "2024-09-15T13:51:25.665Z"
   },
   {
    "duration": 0,
    "start_time": "2024-09-15T13:51:25.666Z"
   },
   {
    "duration": 0,
    "start_time": "2024-09-15T13:51:25.667Z"
   },
   {
    "duration": 3,
    "start_time": "2024-09-15T13:52:05.032Z"
   },
   {
    "duration": 9,
    "start_time": "2024-09-15T13:52:05.036Z"
   },
   {
    "duration": 22,
    "start_time": "2024-09-15T13:52:05.047Z"
   },
   {
    "duration": 42,
    "start_time": "2024-09-15T13:52:05.071Z"
   },
   {
    "duration": 26,
    "start_time": "2024-09-15T13:52:05.117Z"
   },
   {
    "duration": 0,
    "start_time": "2024-09-15T13:52:05.145Z"
   },
   {
    "duration": 0,
    "start_time": "2024-09-15T13:52:05.147Z"
   },
   {
    "duration": 0,
    "start_time": "2024-09-15T13:52:05.148Z"
   },
   {
    "duration": 0,
    "start_time": "2024-09-15T13:52:05.149Z"
   },
   {
    "duration": 0,
    "start_time": "2024-09-15T13:52:05.150Z"
   },
   {
    "duration": 0,
    "start_time": "2024-09-15T13:52:05.151Z"
   },
   {
    "duration": 2584,
    "start_time": "2024-09-15T13:52:42.583Z"
   },
   {
    "duration": 6,
    "start_time": "2024-09-15T13:52:45.169Z"
   },
   {
    "duration": 1006,
    "start_time": "2024-09-15T13:52:45.176Z"
   },
   {
    "duration": 9,
    "start_time": "2024-09-15T13:52:46.184Z"
   },
   {
    "duration": 47,
    "start_time": "2024-09-15T13:52:46.195Z"
   },
   {
    "duration": 14,
    "start_time": "2024-09-15T13:52:46.244Z"
   },
   {
    "duration": 19,
    "start_time": "2024-09-15T13:52:46.260Z"
   },
   {
    "duration": 12,
    "start_time": "2024-09-15T13:52:46.281Z"
   },
   {
    "duration": 35,
    "start_time": "2024-09-15T13:52:46.294Z"
   },
   {
    "duration": 31,
    "start_time": "2024-09-15T13:52:46.331Z"
   },
   {
    "duration": 27,
    "start_time": "2024-09-15T13:52:46.364Z"
   },
   {
    "duration": 2765,
    "start_time": "2024-09-15T13:52:58.741Z"
   },
   {
    "duration": 1362,
    "start_time": "2024-09-15T13:53:01.508Z"
   },
   {
    "duration": 1025,
    "start_time": "2024-09-15T13:53:02.872Z"
   },
   {
    "duration": 14,
    "start_time": "2024-09-15T13:53:03.898Z"
   },
   {
    "duration": 35,
    "start_time": "2024-09-15T13:53:03.922Z"
   },
   {
    "duration": 37,
    "start_time": "2024-09-15T13:53:03.959Z"
   },
   {
    "duration": 22,
    "start_time": "2024-09-15T13:53:03.997Z"
   },
   {
    "duration": 29,
    "start_time": "2024-09-15T13:53:04.021Z"
   },
   {
    "duration": 162,
    "start_time": "2024-09-15T13:53:04.052Z"
   },
   {
    "duration": 4,
    "start_time": "2024-09-15T13:53:04.216Z"
   },
   {
    "duration": 39,
    "start_time": "2024-09-15T13:53:04.221Z"
   },
   {
    "duration": 84086,
    "start_time": "2024-09-15T13:53:04.262Z"
   },
   {
    "duration": 9,
    "start_time": "2024-09-15T13:54:28.350Z"
   },
   {
    "duration": 1424,
    "start_time": "2024-09-15T13:54:28.363Z"
   },
   {
    "duration": 5,
    "start_time": "2024-09-15T13:54:29.789Z"
   },
   {
    "duration": 11,
    "start_time": "2024-09-15T13:54:29.796Z"
   },
   {
    "duration": 11,
    "start_time": "2024-09-15T13:54:29.809Z"
   },
   {
    "duration": 763,
    "start_time": "2024-09-15T13:54:29.822Z"
   },
   {
    "duration": 4,
    "start_time": "2024-09-15T13:54:30.586Z"
   },
   {
    "duration": 26,
    "start_time": "2024-09-15T13:54:30.591Z"
   },
   {
    "duration": 42,
    "start_time": "2024-09-15T13:54:30.619Z"
   },
   {
    "duration": 24,
    "start_time": "2024-09-15T13:54:30.663Z"
   },
   {
    "duration": 29,
    "start_time": "2024-09-15T13:54:30.689Z"
   },
   {
    "duration": 20,
    "start_time": "2024-09-15T13:54:30.720Z"
   },
   {
    "duration": 5405,
    "start_time": "2024-09-15T13:54:30.742Z"
   },
   {
    "duration": 4,
    "start_time": "2024-09-15T13:54:36.149Z"
   },
   {
    "duration": 100564,
    "start_time": "2024-09-15T13:54:36.154Z"
   },
   {
    "duration": 4,
    "start_time": "2024-09-15T13:56:16.720Z"
   },
   {
    "duration": 139,
    "start_time": "2024-09-15T13:56:16.725Z"
   },
   {
    "duration": 0,
    "start_time": "2024-09-15T13:56:16.866Z"
   },
   {
    "duration": 14,
    "start_time": "2024-09-15T13:57:39.800Z"
   },
   {
    "duration": 30,
    "start_time": "2024-09-15T13:57:41.642Z"
   },
   {
    "duration": 9,
    "start_time": "2024-09-15T13:58:09.591Z"
   },
   {
    "duration": 2468,
    "start_time": "2024-09-15T13:58:45.965Z"
   },
   {
    "duration": 1343,
    "start_time": "2024-09-15T13:58:48.435Z"
   },
   {
    "duration": 982,
    "start_time": "2024-09-15T13:58:49.780Z"
   },
   {
    "duration": 14,
    "start_time": "2024-09-15T13:58:50.764Z"
   },
   {
    "duration": 48,
    "start_time": "2024-09-15T13:58:50.779Z"
   },
   {
    "duration": 27,
    "start_time": "2024-09-15T13:58:50.828Z"
   },
   {
    "duration": 16,
    "start_time": "2024-09-15T13:58:50.857Z"
   },
   {
    "duration": 19,
    "start_time": "2024-09-15T13:58:50.875Z"
   },
   {
    "duration": 239,
    "start_time": "2024-09-15T13:58:50.895Z"
   },
   {
    "duration": 5,
    "start_time": "2024-09-15T13:58:51.137Z"
   },
   {
    "duration": 5,
    "start_time": "2024-09-15T13:58:51.143Z"
   },
   {
    "duration": 82767,
    "start_time": "2024-09-15T13:58:51.149Z"
   },
   {
    "duration": 7,
    "start_time": "2024-09-15T14:00:13.917Z"
   },
   {
    "duration": 1424,
    "start_time": "2024-09-15T14:00:13.925Z"
   },
   {
    "duration": 5,
    "start_time": "2024-09-15T14:00:15.350Z"
   },
   {
    "duration": 44,
    "start_time": "2024-09-15T14:00:15.356Z"
   },
   {
    "duration": 22,
    "start_time": "2024-09-15T14:00:15.402Z"
   },
   {
    "duration": 732,
    "start_time": "2024-09-15T14:00:15.426Z"
   },
   {
    "duration": 4,
    "start_time": "2024-09-15T14:00:16.160Z"
   },
   {
    "duration": 18,
    "start_time": "2024-09-15T14:00:16.165Z"
   },
   {
    "duration": 17,
    "start_time": "2024-09-15T14:00:16.184Z"
   },
   {
    "duration": 9,
    "start_time": "2024-09-15T14:00:16.203Z"
   },
   {
    "duration": 4,
    "start_time": "2024-09-15T14:00:16.213Z"
   },
   {
    "duration": 30,
    "start_time": "2024-09-15T14:00:16.218Z"
   },
   {
    "duration": 5476,
    "start_time": "2024-09-15T14:00:16.250Z"
   },
   {
    "duration": 3,
    "start_time": "2024-09-15T14:00:21.728Z"
   },
   {
    "duration": 100427,
    "start_time": "2024-09-15T14:00:21.733Z"
   },
   {
    "duration": 4,
    "start_time": "2024-09-15T14:02:02.163Z"
   },
   {
    "duration": 56,
    "start_time": "2024-09-15T14:02:02.169Z"
   },
   {
    "duration": 2543,
    "start_time": "2024-09-15T14:02:51.450Z"
   },
   {
    "duration": 1391,
    "start_time": "2024-09-15T14:02:53.995Z"
   },
   {
    "duration": 997,
    "start_time": "2024-09-15T14:02:55.387Z"
   },
   {
    "duration": 15,
    "start_time": "2024-09-15T14:02:56.387Z"
   },
   {
    "duration": 107,
    "start_time": "2024-09-15T14:02:56.404Z"
   },
   {
    "duration": 51,
    "start_time": "2024-09-15T14:02:56.513Z"
   },
   {
    "duration": 39,
    "start_time": "2024-09-15T14:02:56.566Z"
   },
   {
    "duration": 19,
    "start_time": "2024-09-15T14:02:56.607Z"
   },
   {
    "duration": 243,
    "start_time": "2024-09-15T14:02:56.628Z"
   },
   {
    "duration": 5,
    "start_time": "2024-09-15T14:02:56.873Z"
   },
   {
    "duration": 12,
    "start_time": "2024-09-15T14:02:56.880Z"
   },
   {
    "duration": 82423,
    "start_time": "2024-09-15T14:02:56.893Z"
   },
   {
    "duration": 9,
    "start_time": "2024-09-15T14:04:19.317Z"
   },
   {
    "duration": 1406,
    "start_time": "2024-09-15T14:04:19.328Z"
   },
   {
    "duration": 2,
    "start_time": "2024-09-15T14:04:20.735Z"
   },
   {
    "duration": 5,
    "start_time": "2024-09-15T14:04:20.739Z"
   },
   {
    "duration": 766,
    "start_time": "2024-09-15T14:04:20.745Z"
   },
   {
    "duration": 12,
    "start_time": "2024-09-15T14:04:21.513Z"
   },
   {
    "duration": 65,
    "start_time": "2024-09-15T14:04:21.527Z"
   },
   {
    "duration": 5362,
    "start_time": "2024-09-15T14:04:21.594Z"
   },
   {
    "duration": 99558,
    "start_time": "2024-09-15T14:04:26.958Z"
   },
   {
    "duration": 9,
    "start_time": "2024-09-15T14:06:06.518Z"
   },
   {
    "duration": 7345,
    "start_time": "2024-12-13T10:09:16.509Z"
   },
   {
    "duration": 1235,
    "start_time": "2024-12-13T10:09:23.856Z"
   },
   {
    "duration": 1288,
    "start_time": "2024-12-13T10:09:25.093Z"
   },
   {
    "duration": 13,
    "start_time": "2024-12-13T10:09:26.383Z"
   },
   {
    "duration": 35,
    "start_time": "2024-12-13T10:09:26.398Z"
   },
   {
    "duration": 10,
    "start_time": "2024-12-13T10:09:26.434Z"
   },
   {
    "duration": 17,
    "start_time": "2024-12-13T10:09:26.445Z"
   },
   {
    "duration": 16,
    "start_time": "2024-12-13T10:09:26.464Z"
   },
   {
    "duration": 494,
    "start_time": "2024-12-13T10:09:26.481Z"
   },
   {
    "duration": 4,
    "start_time": "2024-12-13T10:09:26.978Z"
   },
   {
    "duration": 50,
    "start_time": "2024-12-13T10:09:26.983Z"
   },
   {
    "duration": 83247,
    "start_time": "2024-12-13T10:09:27.035Z"
   },
   {
    "duration": 7,
    "start_time": "2024-12-13T10:10:50.283Z"
   },
   {
    "duration": 1372,
    "start_time": "2024-12-13T10:10:50.291Z"
   },
   {
    "duration": 2,
    "start_time": "2024-12-13T10:10:51.665Z"
   },
   {
    "duration": 9,
    "start_time": "2024-12-13T10:10:51.668Z"
   }
  ],
  "kernelspec": {
   "display_name": "Python 3 (ipykernel)",
   "language": "python",
   "name": "python3"
  },
  "language_info": {
   "codemirror_mode": {
    "name": "ipython",
    "version": 3
   },
   "file_extension": ".py",
   "mimetype": "text/x-python",
   "name": "python",
   "nbconvert_exporter": "python",
   "pygments_lexer": "ipython3",
   "version": "3.11.5"
  },
  "toc": {
   "base_numbering": 1,
   "nav_menu": {},
   "number_sections": true,
   "sideBar": true,
   "skip_h1_title": true,
   "title_cell": "Содержание",
   "title_sidebar": "Contents",
   "toc_cell": true,
   "toc_position": {
    "height": "calc(100% - 180px)",
    "left": "10px",
    "top": "150px",
    "width": "302.391px"
   },
   "toc_section_display": true,
   "toc_window_display": true
  }
 },
 "nbformat": 4,
 "nbformat_minor": 2
}
